{
 "cells": [
  {
   "cell_type": "code",
   "execution_count": 1,
   "id": "associate-battle",
   "metadata": {
    "ExecuteTime": {
     "end_time": "2021-05-30T12:49:51.900970Z",
     "start_time": "2021-05-30T12:48:04.203358Z"
    },
    "slideshow": {
     "slide_type": "-"
    }
   },
   "outputs": [
    {
     "name": "stdout",
     "output_type": "stream",
     "text": [
      "Checking whether there is an H2O instance running at http://localhost:54321 ..... not found.\n",
      "Attempting to start a local H2O server...\n",
      "; OpenJDK 64-Bit Server VM Zulu11.37+18-SA (build 11.0.6+10-LTS, mixed mode)\n",
      "  Starting server from C:\\Users\\zvila\\anaconda3\\lib\\site-packages\\h2o\\backend\\bin\\h2o.jar\n",
      "  Ice root: C:\\Users\\zvila\\AppData\\Local\\Temp\\tmp32jd_9dn\n",
      "  JVM stdout: C:\\Users\\zvila\\AppData\\Local\\Temp\\tmp32jd_9dn\\h2o_zvila_started_from_python.out\n",
      "  JVM stderr: C:\\Users\\zvila\\AppData\\Local\\Temp\\tmp32jd_9dn\\h2o_zvila_started_from_python.err\n",
      "  Server is running at http://127.0.0.1:54321\n",
      "Connecting to H2O server at http://127.0.0.1:54321 ... successful.\n"
     ]
    },
    {
     "data": {
      "text/html": [
       "<div style=\"overflow:auto\"><table style=\"width:50%\"><tr><td>H2O_cluster_uptime:</td>\n",
       "<td>37 secs</td></tr>\n",
       "<tr><td>H2O_cluster_timezone:</td>\n",
       "<td>America/New_York</td></tr>\n",
       "<tr><td>H2O_data_parsing_timezone:</td>\n",
       "<td>UTC</td></tr>\n",
       "<tr><td>H2O_cluster_version:</td>\n",
       "<td>3.32.1.3</td></tr>\n",
       "<tr><td>H2O_cluster_version_age:</td>\n",
       "<td>10 days </td></tr>\n",
       "<tr><td>H2O_cluster_name:</td>\n",
       "<td>H2O_from_python_zvila_ba9jw7</td></tr>\n",
       "<tr><td>H2O_cluster_total_nodes:</td>\n",
       "<td>1</td></tr>\n",
       "<tr><td>H2O_cluster_free_memory:</td>\n",
       "<td>6 Gb</td></tr>\n",
       "<tr><td>H2O_cluster_total_cores:</td>\n",
       "<td>8</td></tr>\n",
       "<tr><td>H2O_cluster_allowed_cores:</td>\n",
       "<td>4</td></tr>\n",
       "<tr><td>H2O_cluster_status:</td>\n",
       "<td>accepting new members, healthy</td></tr>\n",
       "<tr><td>H2O_connection_url:</td>\n",
       "<td>http://127.0.0.1:54321</td></tr>\n",
       "<tr><td>H2O_connection_proxy:</td>\n",
       "<td>{\"http\": null, \"https\": null}</td></tr>\n",
       "<tr><td>H2O_internal_security:</td>\n",
       "<td>False</td></tr>\n",
       "<tr><td>H2O_API_Extensions:</td>\n",
       "<td>Amazon S3, Algos, AutoML, Core V3, TargetEncoder, Core V4</td></tr>\n",
       "<tr><td>Python_version:</td>\n",
       "<td>3.7.10 final</td></tr></table></div>"
      ],
      "text/plain": [
       "--------------------------  ---------------------------------------------------------\n",
       "H2O_cluster_uptime:         37 secs\n",
       "H2O_cluster_timezone:       America/New_York\n",
       "H2O_data_parsing_timezone:  UTC\n",
       "H2O_cluster_version:        3.32.1.3\n",
       "H2O_cluster_version_age:    10 days\n",
       "H2O_cluster_name:           H2O_from_python_zvila_ba9jw7\n",
       "H2O_cluster_total_nodes:    1\n",
       "H2O_cluster_free_memory:    6 Gb\n",
       "H2O_cluster_total_cores:    8\n",
       "H2O_cluster_allowed_cores:  4\n",
       "H2O_cluster_status:         accepting new members, healthy\n",
       "H2O_connection_url:         http://127.0.0.1:54321\n",
       "H2O_connection_proxy:       {\"http\": null, \"https\": null}\n",
       "H2O_internal_security:      False\n",
       "H2O_API_Extensions:         Amazon S3, Algos, AutoML, Core V3, TargetEncoder, Core V4\n",
       "Python_version:             3.7.10 final\n",
       "--------------------------  ---------------------------------------------------------"
      ]
     },
     "metadata": {},
     "output_type": "display_data"
    }
   ],
   "source": [
    "#initialize dependencies, h2o as primary\n",
    "import datetime  # for timestamp\n",
    "import h2o  # base h2o package for python\n",
    "from h2o.estimators.glm import H2OGeneralizedLinearEstimator  # h2o elastic net models class\n",
    "from h2o.grid.grid_search import H2OGridSearch  # grid search class and syntax for h2o models\n",
    "from interpret import show  # basic visualizations from interpret package\n",
    "from interpret.glassbox import ExplainableBoostingClassifier  # interpret ebm class\n",
    "from interpret.perf import ROC  # ROC measure for ebm\n",
    "import itertools  # for cartesian product of parameters\n",
    "import matplotlib.pyplot as plt  # basic plotting\n",
    "import numpy as np  # for basic array manipulation\n",
    "import pandas as pd  # for dataframe manipulation\n",
    "import seaborn as sns  # slightly better plotting\n",
    "import time  # for timers\n",
    "import xgboost as xgb  # base xgboost package for python\n",
    "\n",
    "# set numpy random seed for better reproducibility\n",
    "SEED = 12345\n",
    "\n",
    "# set number of threads\n",
    "NTHREAD = 4\n",
    "\n",
    "h2o.init(max_mem_size='6G',\n",
    "         nthreads=NTHREAD)  # start h2o with plenty of memory and threads\n",
    "h2o.remove_all()  # clears h2o memory\n",
    "h2o.no_progress()  # turn off h2o progress indicators"
   ]
  },
  {
   "cell_type": "code",
   "execution_count": 3,
   "id": "adopted-production",
   "metadata": {
    "ExecuteTime": {
     "end_time": "2021-05-30T12:49:58.864210Z",
     "start_time": "2021-05-30T12:49:51.922911Z"
    }
   },
   "outputs": [],
   "source": [
    "#import data (test data will not be used for model fitting)\n",
    "data = pd.read_csv('hmda_train_preprocessed.csv')\n",
    "test = pd.read_csv('hmda_test_preprocessed.csv')"
   ]
  },
  {
   "cell_type": "markdown",
   "id": "laden-marker",
   "metadata": {},
   "source": [
    "# Feature Assignment (Parametric Model)"
   ]
  },
  {
   "cell_type": "code",
   "execution_count": 4,
   "id": "smaller-childhood",
   "metadata": {
    "ExecuteTime": {
     "end_time": "2021-05-30T12:49:58.888455Z",
     "start_time": "2021-05-30T12:49:58.864210Z"
    }
   },
   "outputs": [],
   "source": [
    "#assign x and y features\n",
    "y_name = 'high_priced'\n",
    "x_names = [\n",
    "    'term_360', 'conforming', 'debt_to_income_ratio_missing',\n",
    "    'loan_amount_std', 'loan_to_value_ratio_std', 'no_intro_rate_period_std',\n",
    "    'intro_rate_period_std', 'property_value_std', 'income_std',\n",
    "    'debt_to_income_ratio_std'\n",
    "]"
   ]
  },
  {
   "cell_type": "markdown",
   "id": "mediterranean-romance",
   "metadata": {},
   "source": [
    "## Boxplots of Features"
   ]
  },
  {
   "cell_type": "code",
   "execution_count": 18,
   "id": "steady-township",
   "metadata": {
    "ExecuteTime": {
     "end_time": "2021-05-30T13:41:08.312183Z",
     "start_time": "2021-05-30T13:41:06.328144Z"
    }
   },
   "outputs": [
    {
     "data": {
      "image/png": "[encoded data removed]",
      "text/plain": [
       "<Figure size 432x288 with 1 Axes>"
      ]
     },
     "metadata": {
      "needs_background": "light"
     },
     "output_type": "display_data"
    },
    {
     "data": {
      "image/png": "[encoded data removed]",
      "text/plain": [
       "<Figure size 432x288 with 1 Axes>"
      ]
     },
     "metadata": {
      "needs_background": "light"
     },
     "output_type": "display_data"
    },
    {
     "data": {
      "image/png": "[encoded data removed]",
      "text/plain": [
       "<Figure size 432x288 with 1 Axes>"
      ]
     },
     "metadata": {
      "needs_background": "light"
     },
     "output_type": "display_data"
    },
    {
     "data": {
      "image/png": "[encoded data removed]",
      "text/plain": [
       "<Figure size 432x288 with 1 Axes>"
      ]
     },
     "metadata": {
      "needs_background": "light"
     },
     "output_type": "display_data"
    },
    {
     "data": {
      "image/png": "[encoded data removed]",
      "text/plain": [
       "<Figure size 432x288 with 1 Axes>"
      ]
     },
     "metadata": {
      "needs_background": "light"
     },
     "output_type": "display_data"
    },
    {
     "data": {
      "image/png": "[encoded data removed]",
      "text/plain": [
       "<Figure size 432x288 with 1 Axes>"
      ]
     },
     "metadata": {
      "needs_background": "light"
     },
     "output_type": "display_data"
    },
    {
     "data": {
      "image/png": "[encoded data removed]",
      "text/plain": [
       "<Figure size 432x288 with 1 Axes>"
      ]
     },
     "metadata": {
      "needs_background": "light"
     },
     "output_type": "display_data"
    },
    {
     "data": {
      "image/png": "[encoded data removed]",
      "text/plain": [
       "<Figure size 432x288 with 1 Axes>"
      ]
     },
     "metadata": {
      "needs_background": "light"
     },
     "output_type": "display_data"
    },
    {
     "data": {
      "image/png": "[encoded data removed]",
      "text/plain": [
       "<Figure size 432x288 with 1 Axes>"
      ]
     },
     "metadata": {
      "needs_background": "light"
     },
     "output_type": "display_data"
    },
    {
     "data": {
      "image/png": "[encoded data removed]",
      "text/plain": [
       "<Figure size 432x288 with 1 Axes>"
      ]
     },
     "metadata": {
      "needs_background": "light"
     },
     "output_type": "display_data"
    }
   ],
   "source": [
    "#data exploration with boxplots\n",
    "for i in data[x_names]:\n",
    "    data[x_names].boxplot(column=i)\n",
    "    plt.show()"
   ]
  },
  {
   "cell_type": "markdown",
   "id": "limited-steering",
   "metadata": {},
   "source": [
    "# Correlation of Features & Predictor (High-Priced)"
   ]
  },
  {
   "cell_type": "code",
   "execution_count": 6,
   "id": "systematic-occasion",
   "metadata": {
    "ExecuteTime": {
     "end_time": "2021-05-30T12:50:04.654793Z",
     "start_time": "2021-05-30T12:50:03.482026Z"
    }
   },
   "outputs": [
    {
     "data": {
      "image/png": "[encoded data removed]",
      "text/plain": [
       "<Figure size 432x288 with 2 Axes>"
      ]
     },
     "metadata": {
      "needs_background": "light"
     },
     "output_type": "display_data"
    }
   ],
   "source": [
    "#correlation analysis\n",
    "corr = data[x_names + [y_name]].corr()\n",
    "_ = sns.heatmap(corr,\n",
    "                xticklabels=corr.columns.values,\n",
    "                yticklabels=corr.columns.values)"
   ]
  },
  {
   "cell_type": "markdown",
   "id": "presidential-guess",
   "metadata": {},
   "source": [
    "# Data Partitioning: Training & Validation Sets"
   ]
  },
  {
   "cell_type": "code",
   "execution_count": 7,
   "id": "marine-times",
   "metadata": {
    "ExecuteTime": {
     "end_time": "2021-05-30T12:50:04.764496Z",
     "start_time": "2021-05-30T12:50:04.659780Z"
    }
   },
   "outputs": [
    {
     "name": "stdout",
     "output_type": "stream",
     "text": [
      "Train data rows = 120254, columns = 23\n",
      "Validation data rows = 40084, columns = 23\n"
     ]
    }
   ],
   "source": [
    "#partition data\n",
    "np.random.seed(SEED)  # preserve reproducibility\n",
    "\n",
    "split_ratio = 0.75  # 75%/25% train/test split\n",
    "\n",
    "# execute split\n",
    "split = np.random.rand(len(data)) < split_ratio\n",
    "train = data[split]\n",
    "valid = data[~split]\n",
    "\n",
    "# summarize split\n",
    "print('Training data = %d, columns = %d' % (train.shape[0], train.shape[1]))\n",
    "print('Validation data = %d, columns = %d' %\n",
    "      (valid.shape[0], valid.shape[1]))"
   ]
  },
  {
   "cell_type": "markdown",
   "id": "thirty-bubble",
   "metadata": {},
   "source": [
    "# Explainable Boosting Machine Model"
   ]
  },
  {
   "cell_type": "code",
   "execution_count": 8,
   "id": "rural-prisoner",
   "metadata": {
    "ExecuteTime": {
     "end_time": "2021-05-30T12:50:04.795414Z",
     "start_time": "2021-05-30T12:50:04.769485Z"
    }
   },
   "outputs": [],
   "source": [
    "#Define function for random grid search\n",
    "def ebm_grid(train,\n",
    "             valid,\n",
    "             x_names,\n",
    "             y_name,\n",
    "             gs_params=None,\n",
    "             n_models=None,\n",
    "             early_stopping_rounds=None,\n",
    "             seed=None):\n",
    "    \"\"\" Performs a random grid search over n_models and gs_params.\n",
    "\n",
    "    :param train: Training data as Pandas DataFrame.\n",
    "    :param valid: Validation data as Pandas DataFrame.\n",
    "    :param x_names: Names of input features.\n",
    "    :param y_name: Name of target feature.\n",
    "    :param gs_params: Dictionary of lists of potential EBM parameters over which to search.   \n",
    "    :param n_models: Number of random models to evaluate.\n",
    "    :param early_stopping_rounds: EBM early stopping rounds.\n",
    "    :param seed: Random seed for better interpretability.\n",
    "    :return: Best candidate model from random grid search.\n",
    "\n",
    "    \"\"\"\n",
    "\n",
    "    # cartesian product of gs_params\n",
    "    keys, values = zip(*gs_params.items())\n",
    "    experiments = [dict(zip(keys, v)) for v in itertools.product(*values)]\n",
    "\n",
    "    # preserve exact reproducibility for this function\n",
    "    np.random.seed(SEED)\n",
    "\n",
    "    # select randomly from cartesian product space\n",
    "    selected_experiments = np.random.choice(len(experiments), n_models)\n",
    "\n",
    "    # set global params for seed, etc.\n",
    "    params = {\n",
    "        'n_jobs': NTHREAD,\n",
    "        'early_stopping_rounds': early_stopping_rounds,\n",
    "        'random_state': SEED\n",
    "    }\n",
    "\n",
    "    # init grid search loop\n",
    "    best_candidate = None\n",
    "    best_score = 0\n",
    "\n",
    "    # grid search loop\n",
    "    for i, exp in enumerate(selected_experiments):\n",
    "\n",
    "        params.update(experiments[exp]\n",
    "                      )  # override global params with current grid run params\n",
    "\n",
    "        print('Grid search run %d/%d:' % (int(i + 1), int(n_models)))\n",
    "        print('Training with parameters:', params)\n",
    "\n",
    "        # train\n",
    "        ebm = ExplainableBoostingClassifier(**params)\n",
    "        candidate = ebm.fit(train[x_names], train[y_name])\n",
    "\n",
    "        # calculate AUC\n",
    "        ebm_perf = ROC(ebm.predict_proba).explain_perf(valid[x_names],\n",
    "                                                       valid[y_name])\n",
    "        candidate_best_score = ebm_perf._internal_obj['overall']['auc']\n",
    "\n",
    "        # determine if current model is better than previous best\n",
    "        if candidate_best_score > best_score:\n",
    "            best_candidate = candidate\n",
    "            best_score = candidate_best_score\n",
    "            print(\n",
    "                'Grid search new best score discovered at iteration %d/%d: %.4f.'\n",
    "                % (int(i + 1), int(n_models), candidate_best_score))\n",
    "\n",
    "        print('---------- ----------')\n",
    "\n",
    "        del ebm\n",
    "\n",
    "    return best_candidate"
   ]
  },
  {
   "cell_type": "markdown",
   "id": "passive-packing",
   "metadata": {},
   "source": [
    "# Random Grid Search: EBM fit (10 iterations)\n",
    "\n",
    "### Utilize Early Stopping to minimize overfitting"
   ]
  },
  {
   "cell_type": "code",
   "execution_count": 9,
   "id": "moral-prescription",
   "metadata": {
    "ExecuteTime": {
     "end_time": "2021-05-30T13:07:30.237762Z",
     "start_time": "2021-05-30T12:50:04.798408Z"
    }
   },
   "outputs": [
    {
     "name": "stdout",
     "output_type": "stream",
     "text": [
      "Grid search run 1/10:\n",
      "Training with parameters: {'n_jobs': 4, 'early_stopping_rounds': 100, 'random_state': 12345, 'max_bins': 512, 'max_interaction_bins': 16, 'interactions': 5, 'outer_bags': 4, 'inner_bags': 0, 'learning_rate': 0.05, 'validation_size': 0.25, 'min_samples_leaf': 1, 'max_leaves': 3}\n",
      "Grid search new best score discovered at iteration 1/10: 0.8212.\n",
      "---------- ----------\n",
      "Grid search run 2/10:\n",
      "Training with parameters: {'n_jobs': 4, 'early_stopping_rounds': 100, 'random_state': 12345, 'max_bins': 128, 'max_interaction_bins': 32, 'interactions': 5, 'outer_bags': 8, 'inner_bags': 0, 'learning_rate': 0.001, 'validation_size': 0.25, 'min_samples_leaf': 2, 'max_leaves': 5}\n",
      "---------- ----------\n",
      "Grid search run 3/10:\n",
      "Training with parameters: {'n_jobs': 4, 'early_stopping_rounds': 100, 'random_state': 12345, 'max_bins': 512, 'max_interaction_bins': 16, 'interactions': 5, 'outer_bags': 4, 'inner_bags': 0, 'learning_rate': 0.001, 'validation_size': 0.5, 'min_samples_leaf': 1, 'max_leaves': 3}\n",
      "---------- ----------\n",
      "Grid search run 4/10:\n",
      "Training with parameters: {'n_jobs': 4, 'early_stopping_rounds': 100, 'random_state': 12345, 'max_bins': 128, 'max_interaction_bins': 64, 'interactions': 5, 'outer_bags': 4, 'inner_bags': 4, 'learning_rate': 0.05, 'validation_size': 0.5, 'min_samples_leaf': 1, 'max_leaves': 5}\n",
      "---------- ----------\n",
      "Grid search run 5/10:\n",
      "Training with parameters: {'n_jobs': 4, 'early_stopping_rounds': 100, 'random_state': 12345, 'max_bins': 512, 'max_interaction_bins': 64, 'interactions': 15, 'outer_bags': 4, 'inner_bags': 0, 'learning_rate': 0.05, 'validation_size': 0.1, 'min_samples_leaf': 10, 'max_leaves': 3}\n",
      "Grid search new best score discovered at iteration 5/10: 0.8246.\n",
      "---------- ----------\n",
      "Grid search run 6/10:\n",
      "Training with parameters: {'n_jobs': 4, 'early_stopping_rounds': 100, 'random_state': 12345, 'max_bins': 256, 'max_interaction_bins': 16, 'interactions': 15, 'outer_bags': 12, 'inner_bags': 4, 'learning_rate': 0.01, 'validation_size': 0.1, 'min_samples_leaf': 2, 'max_leaves': 5}\n",
      "---------- ----------\n",
      "Grid search run 7/10:\n",
      "Training with parameters: {'n_jobs': 4, 'early_stopping_rounds': 100, 'random_state': 12345, 'max_bins': 512, 'max_interaction_bins': 32, 'interactions': 15, 'outer_bags': 4, 'inner_bags': 4, 'learning_rate': 0.05, 'validation_size': 0.25, 'min_samples_leaf': 10, 'max_leaves': 1}\n",
      "---------- ----------\n",
      "Grid search run 8/10:\n",
      "Training with parameters: {'n_jobs': 4, 'early_stopping_rounds': 100, 'random_state': 12345, 'max_bins': 256, 'max_interaction_bins': 16, 'interactions': 15, 'outer_bags': 8, 'inner_bags': 4, 'learning_rate': 0.001, 'validation_size': 0.5, 'min_samples_leaf': 5, 'max_leaves': 3}\n",
      "---------- ----------\n",
      "Grid search run 9/10:\n",
      "Training with parameters: {'n_jobs': 4, 'early_stopping_rounds': 100, 'random_state': 12345, 'max_bins': 256, 'max_interaction_bins': 16, 'interactions': 10, 'outer_bags': 8, 'inner_bags': 0, 'learning_rate': 0.05, 'validation_size': 0.5, 'min_samples_leaf': 5, 'max_leaves': 1}\n",
      "---------- ----------\n",
      "Grid search run 10/10:\n",
      "Training with parameters: {'n_jobs': 4, 'early_stopping_rounds': 100, 'random_state': 12345, 'max_bins': 512, 'max_interaction_bins': 64, 'interactions': 5, 'outer_bags': 4, 'inner_bags': 0, 'learning_rate': 0.001, 'validation_size': 0.25, 'min_samples_leaf': 2, 'max_leaves': 3}\n",
      "---------- ----------\n",
      "EBM training completed in 1045.42 s.\n"
     ]
    }
   ],
   "source": [
    "# dictionary of hyperparameter value lists for grid search\n",
    "gs_params = {\n",
    "    'max_bins': [128, 256, 512],\n",
    "    'max_interaction_bins': [16, 32, 64],\n",
    "    'interactions': [5, 10, 15],\n",
    "    'outer_bags': [4, 8, 12],\n",
    "    'inner_bags': [0, 4],\n",
    "    'learning_rate': [0.001, 0.01, 0.05],\n",
    "    'validation_size': [0.1, 0.25, 0.5],\n",
    "    'min_samples_leaf': [1, 2, 5, 10],\n",
    "    'max_leaves': [1, 3, 5]\n",
    "}\n",
    "\n",
    "# EBM grid search, use early stopping\n",
    "best_ebm = ebm_grid(train,\n",
    "                    valid,\n",
    "                    x_names,\n",
    "                    y_name,\n",
    "                    gs_params=gs_params,\n",
    "                    n_models=10,\n",
    "                    early_stopping_rounds=100,\n",
    "                    seed=SEED)"
   ]
  },
  {
   "cell_type": "markdown",
   "id": "helpful-native",
   "metadata": {},
   "source": [
    "# Model Assessment: AUC of Best Model"
   ]
  },
  {
   "cell_type": "code",
   "execution_count": 10,
   "id": "progressive-consolidation",
   "metadata": {
    "ExecuteTime": {
     "end_time": "2021-05-30T13:07:30.546468Z",
     "start_time": "2021-05-30T13:07:30.238764Z"
    }
   },
   "outputs": [
    {
     "name": "stdout",
     "output_type": "stream",
     "text": [
      "Validation AUC: 0.8246.\n"
     ]
    }
   ],
   "source": [
    "best_ebm_perf = ROC(best_ebm.predict_proba).explain_perf(\n",
    "    valid[x_names], valid[y_name])\n",
    "print('Validation AUC: %.4f.' % best_ebm_perf._internal_obj['overall']['auc'])"
   ]
  },
  {
   "cell_type": "code",
   "execution_count": 11,
   "id": "detected-mason",
   "metadata": {
    "ExecuteTime": {
     "end_time": "2021-05-30T13:07:31.067996Z",
     "start_time": "2021-05-30T13:07:30.547465Z"
    }
   },
   "outputs": [],
   "source": [
    "#create submission file\n",
    "best_ebm_submit = pd.DataFrame(best_ebm.predict_proba(test[x_names])[:, 1],\n",
    "                               columns=['phat'])\n",
    "best_ebm_submit.to_csv(\n",
    "    'ph_best_ebm_' +\n",
    "    str(datetime.datetime.now().strftime(\"%Y_%m_%d_%H_%M_%S\") + '.csv'),\n",
    "    index=False)"
   ]
  },
  {
   "cell_type": "code",
   "execution_count": 13,
   "id": "broken-hormone",
   "metadata": {
    "ExecuteTime": {
     "end_time": "2021-05-30T13:07:31.837389Z",
     "start_time": "2021-05-30T13:07:31.081919Z"
    }
   },
   "outputs": [
    {
     "name": "stdout",
     "output_type": "stream",
     "text": [
      "H2O session _sid_9850 closed.\n"
     ]
    }
   ],
   "source": [
    "#end h2o\n",
    "h2o.cluster().shutdown(prompt=False)"
   ]
  }
 ],
 "metadata": {
  "hide_input": false,
  "kernelspec": {
   "display_name": "Python 3",
   "language": "python",
   "name": "python3"
  },
  "language_info": {
   "codemirror_mode": {
    "name": "ipython",
    "version": 3
   },
   "file_extension": ".py",
   "mimetype": "text/x-python",
   "name": "python",
   "nbconvert_exporter": "python",
   "pygments_lexer": "ipython3",
   "version": "3.7.10"
  },
  "latex_envs": {
   "LaTeX_envs_menu_present": true,
   "autoclose": false,
   "autocomplete": true,
   "bibliofile": "biblio.bib",
   "cite_by": "apalike",
   "current_citInitial": 1,
   "eqLabelWithNumbers": true,
   "eqNumInitial": 1,
   "hotkeys": {
    "equation": "Ctrl-E",
    "itemize": "Ctrl-I"
   },
   "labels_anchors": false,
   "latex_user_defs": false,
   "report_style_numbering": false,
   "user_envs_cfg": false
  },
  "nbTranslate": {
   "displayLangs": [
    "*"
   ],
   "hotkey": "alt-t",
   "langInMainMenu": true,
   "sourceLang": "en",
   "targetLang": "fr",
   "useGoogleTranslate": true
  },
  "toc": {
   "base_numbering": 1,
   "nav_menu": {},
   "number_sections": true,
   "sideBar": true,
   "skip_h1_title": false,
   "title_cell": "Table of Contents",
   "title_sidebar": "Contents",
   "toc_cell": false,
   "toc_position": {},
   "toc_section_display": true,
   "toc_window_display": false
  },
  "varInspector": {
   "cols": {
    "lenName": 16,
    "lenType": 16,
    "lenVar": 40
   },
   "kernels_config": {
    "python": {
     "delete_cmd_postfix": "",
     "delete_cmd_prefix": "del ",
     "library": "var_list.py",
     "varRefreshCmd": "print(var_dic_list())"
    },
    "r": {
     "delete_cmd_postfix": ") ",
     "delete_cmd_prefix": "rm(",
     "library": "var_list.r",
     "varRefreshCmd": "cat(var_dic_list()) "
    }
   },
   "oldHeight": 794.75374,
   "position": {
    "height": "816.859px",
    "left": "1650.16px",
    "right": "20px",
    "top": "120px",
    "width": "341.76px"
   },
   "types_to_exclude": [
    "module",
    "function",
    "builtin_function_or_method",
    "instance",
    "_Feature"
   ],
   "varInspector_section_display": "block",
   "window_display": false
  }
 },
 "nbformat": 4,
 "nbformat_minor": 5
}
