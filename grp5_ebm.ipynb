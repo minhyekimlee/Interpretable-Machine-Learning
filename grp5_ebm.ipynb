{
 "cells": [
  {
   "cell_type": "code",
   "execution_count": 1,
   "id": "associate-battle",
   "metadata": {
    "ExecuteTime": {
     "end_time": "2021-06-12T20:27:26.353733Z",
     "start_time": "2021-06-12T20:27:11.463815Z"
    },
    "slideshow": {
     "slide_type": "-"
    }
   },
   "outputs": [
    {
     "name": "stdout",
     "output_type": "stream",
     "text": [
      "Checking whether there is an H2O instance running at http://localhost:54321 . connected.\n"
     ]
    },
    {
     "data": {
      "text/html": [
       "<div style=\"overflow:auto\"><table style=\"width:50%\"><tr><td>H2O_cluster_uptime:</td>\n",
       "<td>4 hours 42 mins</td></tr>\n",
       "<tr><td>H2O_cluster_timezone:</td>\n",
       "<td>America/New_York</td></tr>\n",
       "<tr><td>H2O_data_parsing_timezone:</td>\n",
       "<td>UTC</td></tr>\n",
       "<tr><td>H2O_cluster_version:</td>\n",
       "<td>3.32.1.3</td></tr>\n",
       "<tr><td>H2O_cluster_version_age:</td>\n",
       "<td>23 days </td></tr>\n",
       "<tr><td>H2O_cluster_name:</td>\n",
       "<td>H2O_from_python_zvila_8p43h7</td></tr>\n",
       "<tr><td>H2O_cluster_total_nodes:</td>\n",
       "<td>1</td></tr>\n",
       "<tr><td>H2O_cluster_free_memory:</td>\n",
       "<td>6 Gb</td></tr>\n",
       "<tr><td>H2O_cluster_total_cores:</td>\n",
       "<td>8</td></tr>\n",
       "<tr><td>H2O_cluster_allowed_cores:</td>\n",
       "<td>4</td></tr>\n",
       "<tr><td>H2O_cluster_status:</td>\n",
       "<td>locked, healthy</td></tr>\n",
       "<tr><td>H2O_connection_url:</td>\n",
       "<td>http://localhost:54321</td></tr>\n",
       "<tr><td>H2O_connection_proxy:</td>\n",
       "<td>{\"http\": null, \"https\": null}</td></tr>\n",
       "<tr><td>H2O_internal_security:</td>\n",
       "<td>False</td></tr>\n",
       "<tr><td>H2O_API_Extensions:</td>\n",
       "<td>Amazon S3, Algos, AutoML, Core V3, TargetEncoder, Core V4</td></tr>\n",
       "<tr><td>Python_version:</td>\n",
       "<td>3.7.10 final</td></tr></table></div>"
      ],
      "text/plain": [
       "--------------------------  ---------------------------------------------------------\n",
       "H2O_cluster_uptime:         4 hours 42 mins\n",
       "H2O_cluster_timezone:       America/New_York\n",
       "H2O_data_parsing_timezone:  UTC\n",
       "H2O_cluster_version:        3.32.1.3\n",
       "H2O_cluster_version_age:    23 days\n",
       "H2O_cluster_name:           H2O_from_python_zvila_8p43h7\n",
       "H2O_cluster_total_nodes:    1\n",
       "H2O_cluster_free_memory:    6 Gb\n",
       "H2O_cluster_total_cores:    8\n",
       "H2O_cluster_allowed_cores:  4\n",
       "H2O_cluster_status:         locked, healthy\n",
       "H2O_connection_url:         http://localhost:54321\n",
       "H2O_connection_proxy:       {\"http\": null, \"https\": null}\n",
       "H2O_internal_security:      False\n",
       "H2O_API_Extensions:         Amazon S3, Algos, AutoML, Core V3, TargetEncoder, Core V4\n",
       "Python_version:             3.7.10 final\n",
       "--------------------------  ---------------------------------------------------------"
      ]
     },
     "metadata": {},
     "output_type": "display_data"
    }
   ],
   "source": [
    "#initialize dependencies, h2o as primary\n",
    "import datetime  # for timestamp\n",
    "import h2o  # base h2o package for python\n",
    "from h2o.estimators.glm import H2OGeneralizedLinearEstimator  # h2o elastic net models class\n",
    "from h2o.grid.grid_search import H2OGridSearch  # grid search class and syntax for h2o models\n",
    "from interpret import show  # basic visualizations from interpret package\n",
    "from interpret.glassbox import ExplainableBoostingClassifier  # interpret ebm class\n",
    "from interpret.perf import ROC  # ROC measure for ebm\n",
    "import itertools  # for cartesian product of parameters\n",
    "import matplotlib.pyplot as plt  # basic plotting\n",
    "import numpy as np  # for basic array manipulation\n",
    "import pandas as pd  # for dataframe manipulation\n",
    "import seaborn as sns  # slightly better plotting\n",
    "import time  # for timers\n",
    "import xgboost as xgb  # base xgboost package for python\n",
    "import random  # to sample from lists\n",
    "from sklearn.metrics import accuracy_score, f1_score  # for selecting model cutoffs\n",
    "\n",
    "# set numpy random seed for better reproducibility\n",
    "SEED = 12345\n",
    "np.random.seed(SEED)\n",
    "\n",
    "# set number of threads\n",
    "NTHREAD = 4\n",
    "\n",
    "h2o.init(max_mem_size='6G',\n",
    "         nthreads=NTHREAD)  # start h2o with plenty of memory and threads\n",
    "h2o.remove_all()  # clears h2o memory\n",
    "h2o.no_progress()  # turn off h2o progress indicators"
   ]
  },
  {
   "cell_type": "code",
   "execution_count": 2,
   "id": "adopted-production",
   "metadata": {
    "ExecuteTime": {
     "end_time": "2021-06-12T20:27:26.921013Z",
     "start_time": "2021-06-12T20:27:26.355937Z"
    }
   },
   "outputs": [],
   "source": [
    "#import data (test data will not be used for model fitting)\n",
    "data = pd.read_csv('hmda_train_preprocessed.csv')\n",
    "test = pd.read_csv('hmda_test_preprocessed.csv')"
   ]
  },
  {
   "cell_type": "markdown",
   "id": "laden-marker",
   "metadata": {},
   "source": [
    "# Feature Assignment (Parametric Model)"
   ]
  },
  {
   "cell_type": "code",
   "execution_count": 3,
   "id": "smaller-childhood",
   "metadata": {
    "ExecuteTime": {
     "end_time": "2021-06-12T20:27:26.937696Z",
     "start_time": "2021-06-12T20:27:26.922041Z"
    }
   },
   "outputs": [],
   "source": [
    "#assign x and y features\n",
    "y_name = 'high_priced'\n",
    "x_names = [\n",
    "    'term_360', 'conforming', 'debt_to_income_ratio_missing',\n",
    "    'loan_amount_std', 'loan_to_value_ratio_std', 'no_intro_rate_period_std',\n",
    "    'intro_rate_period_std', 'property_value_std', 'income_std',\n",
    "    'debt_to_income_ratio_std'\n",
    "]"
   ]
  },
  {
   "cell_type": "markdown",
   "id": "mediterranean-romance",
   "metadata": {},
   "source": [
    "## Boxplots of Features"
   ]
  },
  {
   "cell_type": "code",
   "execution_count": 4,
   "id": "steady-township",
   "metadata": {
    "ExecuteTime": {
     "end_time": "2021-06-12T20:27:29.816442Z",
     "start_time": "2021-06-12T20:27:26.937696Z"
    }
   },
   "outputs": [
    {
     "data": {
      "image/png": "[encoded data removed]",
      "text/plain": [
       "<Figure size 432x288 with 1 Axes>"
      ]
     },
     "metadata": {
      "needs_background": "light"
     },
     "output_type": "display_data"
    },
    {
     "data": {
      "image/png": "[encoded data removed]",
      "text/plain": [
       "<Figure size 432x288 with 1 Axes>"
      ]
     },
     "metadata": {
      "needs_background": "light"
     },
     "output_type": "display_data"
    },
    {
     "data": {
      "image/png": "[encoded data removed]",
      "text/plain": [
       "<Figure size 432x288 with 1 Axes>"
      ]
     },
     "metadata": {
      "needs_background": "light"
     },
     "output_type": "display_data"
    },
    {
     "data": {
      "image/png": "[encoded data removed]",
      "text/plain": [
       "<Figure size 432x288 with 1 Axes>"
      ]
     },
     "metadata": {
      "needs_background": "light"
     },
     "output_type": "display_data"
    },
    {
     "data": {
      "image/png": "[encoded data removed]",
      "text/plain": [
       "<Figure size 432x288 with 1 Axes>"
      ]
     },
     "metadata": {
      "needs_background": "light"
     },
     "output_type": "display_data"
    },
    {
     "data": {
      "image/png": "[encoded data removed]",
      "text/plain": [
       "<Figure size 432x288 with 1 Axes>"
      ]
     },
     "metadata": {
      "needs_background": "light"
     },
     "output_type": "display_data"
    },
    {
     "data": {
      "image/png": "[encoded data removed]",
      "text/plain": [
       "<Figure size 432x288 with 1 Axes>"
      ]
     },
     "metadata": {
      "needs_background": "light"
     },
     "output_type": "display_data"
    },
    {
     "data": {
      "image/png": "[encoded data removed]",
      "text/plain": [
       "<Figure size 432x288 with 1 Axes>"
      ]
     },
     "metadata": {
      "needs_background": "light"
     },
     "output_type": "display_data"
    },
    {
     "data": {
      "image/png": "[encoded data removed]",
      "text/plain": [
       "<Figure size 432x288 with 1 Axes>"
      ]
     },
     "metadata": {
      "needs_background": "light"
     },
     "output_type": "display_data"
    },
    {
     "data": {
      "image/png": "[encoded data removed]",
      "text/plain": [
       "<Figure size 432x288 with 1 Axes>"
      ]
     },
     "metadata": {
      "needs_background": "light"
     },
     "output_type": "display_data"
    }
   ],
   "source": [
    "#data exploration with boxplots\n",
    "for i in data[x_names]:\n",
    "    data[x_names].boxplot(column=i)\n",
    "    plt.show()"
   ]
  },
  {
   "cell_type": "markdown",
   "id": "limited-steering",
   "metadata": {},
   "source": [
    "# Correlation of Features & Predictor (High-Priced)"
   ]
  },
  {
   "cell_type": "code",
   "execution_count": 5,
   "id": "systematic-occasion",
   "metadata": {
    "ExecuteTime": {
     "end_time": "2021-06-12T20:27:30.249282Z",
     "start_time": "2021-06-12T20:27:29.817439Z"
    }
   },
   "outputs": [
    {
     "data": {
      "image/png": "[encoded data removed]",
      "text/plain": [
       "<Figure size 432x288 with 2 Axes>"
      ]
     },
     "metadata": {
      "needs_background": "light"
     },
     "output_type": "display_data"
    }
   ],
   "source": [
    "#correlation analysis\n",
    "corr = data[x_names + [y_name]].corr()\n",
    "_ = sns.heatmap(corr,\n",
    "                xticklabels=corr.columns.values,\n",
    "                yticklabels=corr.columns.values)"
   ]
  },
  {
   "cell_type": "markdown",
   "id": "presidential-guess",
   "metadata": {},
   "source": [
    "# Data Partitioning: Training & Validation Sets"
   ]
  },
  {
   "cell_type": "code",
   "execution_count": 6,
   "id": "marine-times",
   "metadata": {
    "ExecuteTime": {
     "end_time": "2021-06-12T20:27:30.280201Z",
     "start_time": "2021-06-12T20:27:30.250280Z"
    }
   },
   "outputs": [
    {
     "name": "stdout",
     "output_type": "stream",
     "text": [
      "Training data = 112253, columns = 23\n",
      "Validation data = 48085, columns = 23\n"
     ]
    }
   ],
   "source": [
    "#partition data\n",
    "np.random.seed(SEED)  # preserve reproducibility\n",
    "\n",
    "split_ratio = 0.70  # 70%/30% train/test split\n",
    "\n",
    "# execute split\n",
    "split = np.random.rand(len(data)) < split_ratio\n",
    "train = data[split]\n",
    "valid = data[~split]\n",
    "\n",
    "# summarize split\n",
    "print('Training data = %d, columns = %d' % (train.shape[0], train.shape[1]))\n",
    "print('Validation data = %d, columns = %d' % (valid.shape[0], valid.shape[1]))"
   ]
  },
  {
   "cell_type": "markdown",
   "id": "thirty-bubble",
   "metadata": {},
   "source": [
    "# Explainable Boosting Machine Model"
   ]
  },
  {
   "cell_type": "code",
   "execution_count": 7,
   "id": "rural-prisoner",
   "metadata": {
    "ExecuteTime": {
     "end_time": "2021-06-12T20:27:30.373158Z",
     "start_time": "2021-06-12T20:27:30.282196Z"
    }
   },
   "outputs": [],
   "source": [
    "#Define function for random grid search\n",
    "def ebm_grid(train,\n",
    "             valid,\n",
    "             x_names,\n",
    "             y_name,\n",
    "             gs_params=None,\n",
    "             n_models=None,\n",
    "             early_stopping_rounds=None,\n",
    "             seed=None):\n",
    "    \"\"\" Performs a random grid search over n_models and gs_params.\n",
    "\n",
    "    :param train: Training data as Pandas DataFrame.\n",
    "    :param valid: Validation data as Pandas DataFrame.\n",
    "    :param x_names: Names of input features.\n",
    "    :param y_name: Name of target feature.\n",
    "    :param gs_params: Dictionary of lists of potential EBM parameters over which to search.   \n",
    "    :param n_models: Number of random models to evaluate.\n",
    "    :param early_stopping_rounds: EBM early stopping rounds.\n",
    "    :param seed: Random seed for better interpretability.\n",
    "    :return: Best candidate model from random grid search.\n",
    "\n",
    "    \"\"\"\n",
    "\n",
    "    # cartesian product of gs_params\n",
    "    keys, values = zip(*gs_params.items())\n",
    "    experiments = [dict(zip(keys, v)) for v in itertools.product(*values)]\n",
    "\n",
    "    # preserve exact reproducibility for this function\n",
    "    np.random.seed(SEED)\n",
    "\n",
    "    # select randomly from cartesian product space\n",
    "    selected_experiments = np.random.choice(len(experiments), n_models)\n",
    "\n",
    "    # set global params for seed, etc.\n",
    "    params = {\n",
    "        'n_jobs': NTHREAD,\n",
    "        'early_stopping_rounds': early_stopping_rounds,\n",
    "        'random_state': SEED\n",
    "    }\n",
    "\n",
    "    # init grid search loop\n",
    "    best_candidate = None\n",
    "    best_score = 0\n",
    "\n",
    "    # grid search loop\n",
    "    for i, exp in enumerate(selected_experiments):\n",
    "\n",
    "        params.update(experiments[exp]\n",
    "                      )  # override global params with current grid run params\n",
    "\n",
    "        print('Grid search run %d/%d:' % (int(i + 1), int(n_models)))\n",
    "        print('Training with parameters:', params)\n",
    "\n",
    "        # train\n",
    "        ebm = ExplainableBoostingClassifier(**params)\n",
    "        candidate = ebm.fit(train[x_names], train[y_name])\n",
    "\n",
    "        # calculate AUC\n",
    "        ebm_perf = ROC(ebm.predict_proba).explain_perf(valid[x_names],\n",
    "                                                       valid[y_name])\n",
    "        candidate_best_score = ebm_perf._internal_obj['overall']['auc']\n",
    "\n",
    "        # determine if current model is better than previous best\n",
    "        if candidate_best_score > best_score:\n",
    "            best_candidate = candidate\n",
    "            best_score = candidate_best_score\n",
    "            print(\n",
    "                'Grid search new best score discovered at iteration %d/%d: %.4f.'\n",
    "                % (int(i + 1), int(n_models), candidate_best_score))\n",
    "\n",
    "        print('---------- ----------')\n",
    "\n",
    "        del ebm\n",
    "\n",
    "    return best_candidate"
   ]
  },
  {
   "cell_type": "markdown",
   "id": "passive-packing",
   "metadata": {},
   "source": [
    "## Random Grid Search: EBM Model Fit (10 iterations)\n",
    "\n",
    "Utilize Early Stopping to minimize overfitting"
   ]
  },
  {
   "cell_type": "code",
   "execution_count": 8,
   "id": "moral-prescription",
   "metadata": {
    "ExecuteTime": {
     "end_time": "2021-06-12T20:47:10.294789Z",
     "start_time": "2021-06-12T20:27:30.375154Z"
    }
   },
   "outputs": [
    {
     "name": "stdout",
     "output_type": "stream",
     "text": [
      "Grid search run 1/10:\n",
      "Training with parameters: {'n_jobs': 4, 'early_stopping_rounds': 100, 'random_state': 12345, 'max_bins': 256, 'max_interaction_bins': 64, 'interactions': 15, 'outer_bags': 6, 'inner_bags': 4, 'learning_rate': 0.01, 'validation_size': 0.2, 'min_samples_leaf': 10, 'max_leaves': 5}\n",
      "Grid search new best score discovered at iteration 1/10: 0.8240.\n",
      "---------- ----------\n",
      "Grid search run 2/10:\n",
      "Training with parameters: {'n_jobs': 4, 'early_stopping_rounds': 100, 'random_state': 12345, 'max_bins': 256, 'max_interaction_bins': 16, 'interactions': 10, 'outer_bags': 6, 'inner_bags': 0, 'learning_rate': 0.01, 'validation_size': 0.4, 'min_samples_leaf': 1, 'max_leaves': 5}\n",
      "---------- ----------\n",
      "Grid search run 3/10:\n",
      "Training with parameters: {'n_jobs': 4, 'early_stopping_rounds': 100, 'random_state': 12345, 'max_bins': 128, 'max_interaction_bins': 16, 'interactions': 15, 'outer_bags': 14, 'inner_bags': 0, 'learning_rate': 0.005, 'validation_size': 0.4, 'min_samples_leaf': 2, 'max_leaves': 7}\n",
      "---------- ----------\n",
      "Grid search run 4/10:\n",
      "Training with parameters: {'n_jobs': 4, 'early_stopping_rounds': 100, 'random_state': 12345, 'max_bins': 256, 'max_interaction_bins': 64, 'interactions': 10, 'outer_bags': 10, 'inner_bags': 0, 'learning_rate': 0.005, 'validation_size': 0.2, 'min_samples_leaf': 2, 'max_leaves': 5}\n",
      "---------- ----------\n",
      "Grid search run 5/10:\n",
      "Training with parameters: {'n_jobs': 4, 'early_stopping_rounds': 100, 'random_state': 12345, 'max_bins': 128, 'max_interaction_bins': 32, 'interactions': 10, 'outer_bags': 6, 'inner_bags': 4, 'learning_rate': 0.001, 'validation_size': 0.5, 'min_samples_leaf': 1, 'max_leaves': 7}\n",
      "---------- ----------\n",
      "Grid search run 6/10:\n",
      "Training with parameters: {'n_jobs': 4, 'early_stopping_rounds': 100, 'random_state': 12345, 'max_bins': 256, 'max_interaction_bins': 64, 'interactions': 15, 'outer_bags': 6, 'inner_bags': 0, 'learning_rate': 0.05, 'validation_size': 0.4, 'min_samples_leaf': 5, 'max_leaves': 3}\n",
      "Grid search new best score discovered at iteration 6/10: 0.8245.\n",
      "---------- ----------\n",
      "Grid search run 7/10:\n",
      "Training with parameters: {'n_jobs': 4, 'early_stopping_rounds': 100, 'random_state': 12345, 'max_bins': 512, 'max_interaction_bins': 32, 'interactions': 10, 'outer_bags': 10, 'inner_bags': 8, 'learning_rate': 0.001, 'validation_size': 0.5, 'min_samples_leaf': 10, 'max_leaves': 3}\n",
      "---------- ----------\n",
      "Grid search run 8/10:\n",
      "Training with parameters: {'n_jobs': 4, 'early_stopping_rounds': 100, 'random_state': 12345, 'max_bins': 256, 'max_interaction_bins': 32, 'interactions': 15, 'outer_bags': 6, 'inner_bags': 0, 'learning_rate': 0.01, 'validation_size': 0.2, 'min_samples_leaf': 10, 'max_leaves': 5}\n",
      "---------- ----------\n",
      "Grid search run 9/10:\n",
      "Training with parameters: {'n_jobs': 4, 'early_stopping_rounds': 100, 'random_state': 12345, 'max_bins': 512, 'max_interaction_bins': 32, 'interactions': 10, 'outer_bags': 10, 'inner_bags': 0, 'learning_rate': 0.05, 'validation_size': 0.2, 'min_samples_leaf': 10, 'max_leaves': 5}\n",
      "---------- ----------\n",
      "Grid search run 10/10:\n",
      "Training with parameters: {'n_jobs': 4, 'early_stopping_rounds': 100, 'random_state': 12345, 'max_bins': 128, 'max_interaction_bins': 32, 'interactions': 20, 'outer_bags': 6, 'inner_bags': 8, 'learning_rate': 0.005, 'validation_size': 0.5, 'min_samples_leaf': 5, 'max_leaves': 3}\n",
      "---------- ----------\n"
     ]
    }
   ],
   "source": [
    "# dictionary of hyperparameter value lists for grid search\n",
    "gs_params = {\n",
    "    'max_bins': [128, 256, 512],\n",
    "    'max_interaction_bins': [16, 32, 64],\n",
    "    'interactions': [10, 15, 20],\n",
    "    'outer_bags': [6, 10, 14],\n",
    "    'inner_bags': [0, 4, 8],\n",
    "    'learning_rate': [0.005, 0.001, 0.01, 0.05],\n",
    "    'validation_size': [0.2, 0.4, 0.5],\n",
    "    'min_samples_leaf': [1, 2, 5, 10],\n",
    "    'max_leaves': [3, 5, 7]\n",
    "}\n",
    "\n",
    "# EBM grid search, use early stopping\n",
    "best_ebm = ebm_grid(train,\n",
    "                    valid,\n",
    "                    x_names,\n",
    "                    y_name,\n",
    "                    gs_params=gs_params,\n",
    "                    n_models=10,\n",
    "                    early_stopping_rounds=100,\n",
    "                    seed=SEED)"
   ]
  },
  {
   "cell_type": "markdown",
   "id": "helpful-native",
   "metadata": {},
   "source": [
    "### Model Assessment: AUC of Best Model"
   ]
  },
  {
   "cell_type": "code",
   "execution_count": 9,
   "id": "progressive-consolidation",
   "metadata": {
    "ExecuteTime": {
     "end_time": "2021-06-12T20:47:10.561452Z",
     "start_time": "2021-06-12T20:47:10.294789Z"
    }
   },
   "outputs": [
    {
     "name": "stdout",
     "output_type": "stream",
     "text": [
      "Validation AUC: 0.82449.\n"
     ]
    }
   ],
   "source": [
    "best_ebm_perf = ROC(best_ebm.predict_proba).explain_perf(\n",
    "    valid[x_names], valid[y_name])\n",
    "print('Validation AUC: %.5f.' % best_ebm_perf._internal_obj['overall']['auc'])"
   ]
  },
  {
   "cell_type": "code",
   "execution_count": 10,
   "id": "detected-mason",
   "metadata": {
    "ExecuteTime": {
     "end_time": "2021-06-12T20:47:10.751454Z",
     "start_time": "2021-06-12T20:47:10.563447Z"
    }
   },
   "outputs": [],
   "source": [
    "#create submission file\n",
    "best_ebm_submit = pd.DataFrame(best_ebm.predict_proba(test[x_names])[:, 1],\n",
    "                               columns=['phat'])\n",
    "best_ebm_submit.to_csv(\n",
    "    'ph_best_ebm_' +\n",
    "    str(datetime.datetime.now().strftime(\"%Y_%m_%d_%H_%M_%S\") + '.csv'),\n",
    "    index=False)"
   ]
  },
  {
   "cell_type": "markdown",
   "id": "laughing-hearts",
   "metadata": {},
   "source": [
    "### Evaluate Validation data"
   ]
  },
  {
   "cell_type": "code",
   "execution_count": 11,
   "id": "after-newport",
   "metadata": {
    "ExecuteTime": {
     "end_time": "2021-06-12T20:47:11.018005Z",
     "start_time": "2021-06-12T20:47:10.751454Z"
    }
   },
   "outputs": [
    {
     "data": {
      "text/html": [
       "<div>\n",
       "<style scoped>\n",
       "    .dataframe tbody tr th:only-of-type {\n",
       "        vertical-align: middle;\n",
       "    }\n",
       "\n",
       "    .dataframe tbody tr th {\n",
       "        vertical-align: top;\n",
       "    }\n",
       "\n",
       "    .dataframe thead th {\n",
       "        text-align: right;\n",
       "    }\n",
       "</style>\n",
       "<table border=\"1\" class=\"dataframe\">\n",
       "  <thead>\n",
       "    <tr style=\"text-align: right;\">\n",
       "      <th></th>\n",
       "      <th>row_id</th>\n",
       "      <th>black</th>\n",
       "      <th>asian</th>\n",
       "      <th>white</th>\n",
       "      <th>amind</th>\n",
       "      <th>hipac</th>\n",
       "      <th>hispanic</th>\n",
       "      <th>non_hispanic</th>\n",
       "      <th>male</th>\n",
       "      <th>female</th>\n",
       "      <th>...</th>\n",
       "      <th>debt_to_income_ratio_missing</th>\n",
       "      <th>loan_amount_std</th>\n",
       "      <th>loan_to_value_ratio_std</th>\n",
       "      <th>no_intro_rate_period_std</th>\n",
       "      <th>intro_rate_period_std</th>\n",
       "      <th>property_value_std</th>\n",
       "      <th>income_std</th>\n",
       "      <th>debt_to_income_ratio_std</th>\n",
       "      <th>high_priced</th>\n",
       "      <th>phat</th>\n",
       "    </tr>\n",
       "  </thead>\n",
       "  <tbody>\n",
       "    <tr>\n",
       "      <th>0</th>\n",
       "      <td>0</td>\n",
       "      <td>NaN</td>\n",
       "      <td>NaN</td>\n",
       "      <td>NaN</td>\n",
       "      <td>NaN</td>\n",
       "      <td>NaN</td>\n",
       "      <td>NaN</td>\n",
       "      <td>NaN</td>\n",
       "      <td>1.0</td>\n",
       "      <td>0.0</td>\n",
       "      <td>...</td>\n",
       "      <td>0</td>\n",
       "      <td>-0.514393</td>\n",
       "      <td>0.333922</td>\n",
       "      <td>0.244394</td>\n",
       "      <td>-0.215304</td>\n",
       "      <td>-0.535932</td>\n",
       "      <td>-0.040307</td>\n",
       "      <td>0.854601</td>\n",
       "      <td>0</td>\n",
       "      <td>0.183249</td>\n",
       "    </tr>\n",
       "    <tr>\n",
       "      <th>1</th>\n",
       "      <td>6</td>\n",
       "      <td>0.0</td>\n",
       "      <td>0.0</td>\n",
       "      <td>1.0</td>\n",
       "      <td>0.0</td>\n",
       "      <td>0.0</td>\n",
       "      <td>0.0</td>\n",
       "      <td>1.0</td>\n",
       "      <td>0.0</td>\n",
       "      <td>1.0</td>\n",
       "      <td>...</td>\n",
       "      <td>0</td>\n",
       "      <td>-0.426448</td>\n",
       "      <td>0.355249</td>\n",
       "      <td>0.244394</td>\n",
       "      <td>-0.215304</td>\n",
       "      <td>-0.474263</td>\n",
       "      <td>-0.020904</td>\n",
       "      <td>1.037419</td>\n",
       "      <td>0</td>\n",
       "      <td>0.319263</td>\n",
       "    </tr>\n",
       "    <tr>\n",
       "      <th>2</th>\n",
       "      <td>8</td>\n",
       "      <td>0.0</td>\n",
       "      <td>0.0</td>\n",
       "      <td>1.0</td>\n",
       "      <td>0.0</td>\n",
       "      <td>0.0</td>\n",
       "      <td>0.0</td>\n",
       "      <td>1.0</td>\n",
       "      <td>NaN</td>\n",
       "      <td>NaN</td>\n",
       "      <td>...</td>\n",
       "      <td>0</td>\n",
       "      <td>0.277109</td>\n",
       "      <td>0.142995</td>\n",
       "      <td>0.244394</td>\n",
       "      <td>-0.215304</td>\n",
       "      <td>0.111598</td>\n",
       "      <td>-0.019865</td>\n",
       "      <td>0.031916</td>\n",
       "      <td>0</td>\n",
       "      <td>0.021405</td>\n",
       "    </tr>\n",
       "    <tr>\n",
       "      <th>3</th>\n",
       "      <td>10</td>\n",
       "      <td>0.0</td>\n",
       "      <td>0.0</td>\n",
       "      <td>1.0</td>\n",
       "      <td>0.0</td>\n",
       "      <td>0.0</td>\n",
       "      <td>0.0</td>\n",
       "      <td>1.0</td>\n",
       "      <td>NaN</td>\n",
       "      <td>NaN</td>\n",
       "      <td>...</td>\n",
       "      <td>0</td>\n",
       "      <td>-0.382476</td>\n",
       "      <td>-0.240432</td>\n",
       "      <td>0.244394</td>\n",
       "      <td>-0.215304</td>\n",
       "      <td>-0.320089</td>\n",
       "      <td>-0.028181</td>\n",
       "      <td>0.946010</td>\n",
       "      <td>0</td>\n",
       "      <td>0.015700</td>\n",
       "    </tr>\n",
       "    <tr>\n",
       "      <th>4</th>\n",
       "      <td>11</td>\n",
       "      <td>0.0</td>\n",
       "      <td>0.0</td>\n",
       "      <td>1.0</td>\n",
       "      <td>0.0</td>\n",
       "      <td>0.0</td>\n",
       "      <td>1.0</td>\n",
       "      <td>0.0</td>\n",
       "      <td>NaN</td>\n",
       "      <td>NaN</td>\n",
       "      <td>...</td>\n",
       "      <td>0</td>\n",
       "      <td>0.101220</td>\n",
       "      <td>-0.266529</td>\n",
       "      <td>0.244394</td>\n",
       "      <td>-0.215304</td>\n",
       "      <td>0.111598</td>\n",
       "      <td>0.016515</td>\n",
       "      <td>-1.156406</td>\n",
       "      <td>0</td>\n",
       "      <td>0.004152</td>\n",
       "    </tr>\n",
       "  </tbody>\n",
       "</table>\n",
       "<p>5 rows × 24 columns</p>\n",
       "</div>"
      ],
      "text/plain": [
       "   row_id  black  asian  white  amind  hipac  hispanic  non_hispanic  male  \\\n",
       "0       0    NaN    NaN    NaN    NaN    NaN       NaN           NaN   1.0   \n",
       "1       6    0.0    0.0    1.0    0.0    0.0       0.0           1.0   0.0   \n",
       "2       8    0.0    0.0    1.0    0.0    0.0       0.0           1.0   NaN   \n",
       "3      10    0.0    0.0    1.0    0.0    0.0       0.0           1.0   NaN   \n",
       "4      11    0.0    0.0    1.0    0.0    0.0       1.0           0.0   NaN   \n",
       "\n",
       "   female  ...  debt_to_income_ratio_missing  loan_amount_std  \\\n",
       "0     0.0  ...                             0        -0.514393   \n",
       "1     1.0  ...                             0        -0.426448   \n",
       "2     NaN  ...                             0         0.277109   \n",
       "3     NaN  ...                             0        -0.382476   \n",
       "4     NaN  ...                             0         0.101220   \n",
       "\n",
       "   loan_to_value_ratio_std  no_intro_rate_period_std  intro_rate_period_std  \\\n",
       "0                 0.333922                  0.244394              -0.215304   \n",
       "1                 0.355249                  0.244394              -0.215304   \n",
       "2                 0.142995                  0.244394              -0.215304   \n",
       "3                -0.240432                  0.244394              -0.215304   \n",
       "4                -0.266529                  0.244394              -0.215304   \n",
       "\n",
       "   property_value_std  income_std  debt_to_income_ratio_std  high_priced  \\\n",
       "0           -0.535932   -0.040307                  0.854601            0   \n",
       "1           -0.474263   -0.020904                  1.037419            0   \n",
       "2            0.111598   -0.019865                  0.031916            0   \n",
       "3           -0.320089   -0.028181                  0.946010            0   \n",
       "4            0.111598    0.016515                 -1.156406            0   \n",
       "\n",
       "       phat  \n",
       "0  0.183249  \n",
       "1  0.319263  \n",
       "2  0.021405  \n",
       "3  0.015700  \n",
       "4  0.004152  \n",
       "\n",
       "[5 rows x 24 columns]"
      ]
     },
     "execution_count": 11,
     "metadata": {},
     "output_type": "execute_result"
    }
   ],
   "source": [
    "#validation data scoring\n",
    "best_ebm_phat = pd.DataFrame(best_ebm.predict_proba(valid[x_names])[:, 1],\n",
    "                             columns=['phat'])\n",
    "best_ebm_phat = pd.concat([valid.reset_index(drop=True), best_ebm_phat],\n",
    "                          axis=1)\n",
    "best_ebm_phat.head()"
   ]
  },
  {
   "cell_type": "code",
   "execution_count": 12,
   "id": "iraqi-compiler",
   "metadata": {
    "ExecuteTime": {
     "end_time": "2021-06-12T20:47:11.114426Z",
     "start_time": "2021-06-12T20:47:11.018005Z"
    }
   },
   "outputs": [],
   "source": [
    "#utility function for selecting percentiles\n",
    "def get_percentile_dict(yhat_name, frame, id_):\n",
    "    \"\"\" Returns the percentiles of a column, yhat_name, as the indices based on\n",
    "        another column id_.\n",
    "        :param yhat_name: Name of column in frame in which to find percentiles.\n",
    "        :param frame: Pandas frame.\n",
    "        :param id_: Validation Pandas frame containing yhat and id_.\n",
    "        :return: Dictionary of percentile values and index column values.\n",
    "    \"\"\"\n",
    "\n",
    "    # create a copy of frame and sort it by yhat\n",
    "    sort_df = frame.copy(deep=True)\n",
    "    sort_df.sort_values(yhat_name, inplace=True)\n",
    "    sort_df.reset_index(inplace=True)\n",
    "\n",
    "    # find top and bottom percentiles\n",
    "    percentiles_dict = {\n",
    "        0: sort_df.loc[0, id_],\n",
    "        99: sort_df.loc[sort_df.shape[0] - 1, id_]\n",
    "    }\n",
    "\n",
    "    # find 10th-90th percentiles\n",
    "    inc = sort_df.shape[0] // 10\n",
    "    for i in range(1, 10):\n",
    "        percentiles_dict[i * 10] = sort_df.loc[i * inc, id_]\n",
    "\n",
    "    return percentiles_dict"
   ]
  },
  {
   "cell_type": "code",
   "execution_count": 13,
   "id": "first-simpson",
   "metadata": {
    "ExecuteTime": {
     "end_time": "2021-06-12T20:47:11.176915Z",
     "start_time": "2021-06-12T20:47:11.114426Z"
    }
   },
   "outputs": [
    {
     "name": "stdout",
     "output_type": "stream",
     "text": [
      "0: 64814\n",
      "10: 67198\n",
      "20: 67762\n",
      "30: 132577\n",
      "40: 9232\n",
      "50: 14332\n",
      "60: 66917\n",
      "70: 9635\n",
      "80: 24145\n",
      "90: 128543\n",
      "99: 48124\n"
     ]
    }
   ],
   "source": [
    "#select percentiles from predictions\n",
    "best_ebm_percentiles = get_percentile_dict('phat', best_ebm_phat, 'row_id')\n",
    "for key in sorted(best_ebm_percentiles.keys()):\n",
    "    print(str(key) + ': ' + str(best_ebm_percentiles[key]))"
   ]
  },
  {
   "cell_type": "markdown",
   "id": "demanding-participation",
   "metadata": {},
   "source": [
    "### EBM Contributions"
   ]
  },
  {
   "cell_type": "code",
   "execution_count": 16,
   "id": "fallen-episode",
   "metadata": {
    "ExecuteTime": {
     "end_time": "2021-06-13T04:35:01.301205Z",
     "start_time": "2021-06-13T04:33:28.313160Z"
    }
   },
   "outputs": [],
   "source": [
    "#calculate EBM contributions\n",
    "\n",
    "# use EBM feature scores as local importance\n",
    "# use mean abs score as global importance\n",
    "best_ebm_contribs = best_ebm.explain_local(valid[x_names])\n",
    "names = best_ebm_contribs._internal_obj['specific'][0]['names']\n",
    "best_ebm_contribs_df = pd.DataFrame(columns=names)\n",
    "\n",
    "# extract scores from insane _internal_obj\n",
    "# new versions just have predict_and_explain() function\n",
    "# use that if you can\n",
    "for i in range(0, valid.shape[0]):\n",
    "    row_df = pd.DataFrame(np.array(\n",
    "        best_ebm_contribs._internal_obj['specific'][i]['scores']).reshape(\n",
    "            1, 25),\n",
    "                          columns=names)\n",
    "    best_ebm_contribs_df = best_ebm_contribs_df.append(row_df,\n",
    "                                                       ignore_index=True)\n",
    "    del row_df"
   ]
  },
  {
   "cell_type": "code",
   "execution_count": 17,
   "id": "lesser-hebrew",
   "metadata": {
    "ExecuteTime": {
     "end_time": "2021-06-13T04:35:06.930400Z",
     "start_time": "2021-06-13T04:35:06.916441Z"
    }
   },
   "outputs": [],
   "source": [
    "# use coefficients as relative global feature importance\n",
    "global_fi = pd.DataFrame()\n",
    "\n",
    "#assign variable\n",
    "global_fi['EBM Importance'] = np.abs(best_ebm_contribs_df).mean()"
   ]
  },
  {
   "cell_type": "markdown",
   "id": "registered-counter",
   "metadata": {},
   "source": [
    "### Compile local feature importance"
   ]
  },
  {
   "cell_type": "code",
   "execution_count": 18,
   "id": "fantastic-woman",
   "metadata": {
    "ExecuteTime": {
     "end_time": "2021-06-13T04:35:09.683844Z",
     "start_time": "2021-06-13T04:35:09.651260Z"
    }
   },
   "outputs": [],
   "source": [
    "valid_idx_map = valid['row_id'].copy(deep=True)\n",
    "valid_idx_map.reset_index(drop=True, inplace=True)\n",
    "\n",
    "# init frame to store local contribs\n",
    "local_fi_dict = {\n",
    "    10: pd.DataFrame(columns=['EBM Contribution'], index=x_names),\n",
    "    50: pd.DataFrame(columns=['EBM Contribution'], index=x_names),\n",
    "    90: pd.DataFrame(columns=['EBM Contribution'], index=x_names)\n",
    "}\n",
    "\n",
    "# extract scores at three percentiles of phat\n",
    "for percentile in [10, 50, 90]:\n",
    "\n",
    "    # using valid_idx_map and percentiles dict\n",
    "    # to find the right local contributions\n",
    "    idx = valid_idx_map[valid_idx_map == int(\n",
    "        best_ebm_percentiles[percentile])].index[0]\n",
    "    s_df = best_ebm_contribs_df.iloc[idx, :len(x_names)].T\n",
    "    s_df.columns = ['EBM Contribution']\n",
    "    local_fi_dict[percentile]['EBM Contribution'] = s_df"
   ]
  },
  {
   "cell_type": "markdown",
   "id": "premier-hypothetical",
   "metadata": {},
   "source": [
    "## Feature Analysis"
   ]
  },
  {
   "cell_type": "markdown",
   "id": "smaller-breeding",
   "metadata": {},
   "source": [
    "### Global Importance"
   ]
  },
  {
   "cell_type": "code",
   "execution_count": 19,
   "id": "corrected-vampire",
   "metadata": {
    "ExecuteTime": {
     "end_time": "2021-06-13T04:35:11.648118Z",
     "start_time": "2021-06-13T04:35:11.362586Z"
    }
   },
   "outputs": [
    {
     "data": {
      "image/png": "[encoded data removed]",
      "text/plain": [
       "<Figure size 432x288 with 1 Axes>"
      ]
     },
     "metadata": {
      "needs_background": "light"
     },
     "output_type": "display_data"
    }
   ],
   "source": [
    "# init plot\n",
    "fig, (ax2) = plt.subplots(ncols=1)\n",
    "plt.tight_layout()\n",
    "plt.subplots_adjust(left=0, right=2.2, wspace=0.2)\n",
    "\n",
    "# plot global FI\n",
    "_ = global_fi['EBM Importance'].plot(kind='bar',\n",
    "                                     ax=ax2,\n",
    "                                     title='Best EBM Feature Importance')"
   ]
  },
  {
   "cell_type": "markdown",
   "id": "british-render",
   "metadata": {},
   "source": [
    "### Localized Importance"
   ]
  },
  {
   "cell_type": "code",
   "execution_count": 20,
   "id": "ultimate-intranet",
   "metadata": {
    "ExecuteTime": {
     "end_time": "2021-06-13T04:35:13.582978Z",
     "start_time": "2021-06-13T04:35:13.194340Z"
    }
   },
   "outputs": [
    {
     "data": {
      "image/png": "[encoded data removed]",
      "text/plain": [
       "<Figure size 432x288 with 3 Axes>"
      ]
     },
     "metadata": {
      "needs_background": "light"
     },
     "output_type": "display_data"
    }
   ],
   "source": [
    "## init 3-pane plot\n",
    "fig, (ax0, ax1, ax2) = plt.subplots(ncols=3, sharey=True)\n",
    "plt.tight_layout()\n",
    "plt.subplots_adjust(left=0, right=2, wspace=0.1)\n",
    "\n",
    "# plot comparisons of local FI across 3 panes\n",
    "_ = local_fi_dict[10].plot(kind='bar',\n",
    "                           ax=ax0,\n",
    "                           title='10th PCTL of p_high_priced')\n",
    "\n",
    "_ = local_fi_dict[50].plot(kind='bar',\n",
    "                           ax=ax1,\n",
    "                           title='50th PCTL of p_high_priced')\n",
    "\n",
    "_ = local_fi_dict[90].plot(kind='bar',\n",
    "                           ax=ax2,\n",
    "                           title='90th PCTL of p_high_priced')"
   ]
  },
  {
   "cell_type": "markdown",
   "id": "medical-ethnic",
   "metadata": {},
   "source": [
    "### Partial Dependence: Utility Function"
   ]
  },
  {
   "cell_type": "code",
   "execution_count": 21,
   "id": "mobile-exhaust",
   "metadata": {
    "ExecuteTime": {
     "end_time": "2021-06-13T04:35:16.949334Z",
     "start_time": "2021-06-13T04:35:16.933659Z"
    }
   },
   "outputs": [],
   "source": [
    "def par_dep(x_name, valid, model, model_type, resolution=20, bins=None):\n",
    "    \"\"\" Creates Pandas DataFrame containing partial dependence or ICE\n",
    "        for a single input variable.\n",
    "        :param x_name: Variable for which to calculate partial dependence.\n",
    "        :param valid: Pandas validation frame.\n",
    "        :param model: Trained model object (assumes binary classifier).\n",
    "        :param model_type: Kind of model: h2o, xgb, or ebm.\n",
    "        :param resolution: The number of points across the domain of xs for which\n",
    "                           to calculate partial dependence, default 20.\n",
    "        :param bins: List of values at which to set xs, default 20 equally-spaced\n",
    "                     points between column minimum and maximum.\n",
    "        :return: Pandas DataFrame containing partial dependence values.\n",
    "    \"\"\"\n",
    "\n",
    "    # turn off pesky Pandas copy warning\n",
    "    pd.options.mode.chained_assignment = None\n",
    "\n",
    "    # determine values at which to calculate partial dependence\n",
    "    if bins is None:\n",
    "        min_ = valid[x_name].min()\n",
    "        max_ = valid[x_name].max()\n",
    "        by = (max_ - min_) / resolution\n",
    "        # modify max and by\n",
    "        # to preserve resolution and actually search up to max\n",
    "        bins = np.arange(min_, (max_ + by), (by + np.round(\n",
    "            (1. / resolution) * by, 3)))\n",
    "\n",
    "    # cache original column values\n",
    "    col_cache = valid.loc[:, x_name].copy(deep=True)\n",
    "\n",
    "    # calculate partial dependence\n",
    "    # by setting column of interest to constant\n",
    "    # and scoring the altered data and taking the mean of the predictions\n",
    "    temp_df = valid.copy(deep=True)\n",
    "    temp_df.loc[:, x_name] = bins[0]\n",
    "    for j, _ in enumerate(bins):\n",
    "        if j + 1 < len(bins):\n",
    "            valid.loc[:, x_name] = bins[j + 1]\n",
    "            temp_df = temp_df.append(valid, ignore_index=True)\n",
    "\n",
    "    # return input frame to original cached state\n",
    "    valid.loc[:, x_name] = col_cache\n",
    "\n",
    "    # model predictions\n",
    "    # probably assumes binary classification\n",
    "    if model_type == 'h2o':\n",
    "        temp_df['partial_dependence'] = model.predict(\n",
    "            h2o.H2OFrame(temp_df))['p1'].as_data_frame()\n",
    "    if model_type == 'xgb':\n",
    "        temp_df['partial_dependence'] = pd.DataFrame(model.predict(\n",
    "            xgb.DMatrix(temp_df),\n",
    "            iteration_range=(0, best_mxgb.best_ntree_limit)),\n",
    "                                                     columns=['phat'])\n",
    "    if model_type == 'ebm':\n",
    "        temp_df['partial_dependence'] = pd.DataFrame(\n",
    "            model.predict_proba(temp_df)[:, 1], columns=['phat'])\n",
    "\n",
    "    return pd.DataFrame(temp_df[[x_name, 'partial_dependence'\n",
    "                                 ]].groupby([x_name]).mean()).reset_index()"
   ]
  },
  {
   "cell_type": "code",
   "execution_count": 22,
   "id": "appropriate-offering",
   "metadata": {
    "ExecuteTime": {
     "end_time": "2021-06-13T04:36:54.064749Z",
     "start_time": "2021-06-13T04:35:19.505464Z"
    }
   },
   "outputs": [
    {
     "name": "stdout",
     "output_type": "stream",
     "text": [
      "Calculating partial dependence for term_360 ...\n",
      "Calculating partial dependence for conforming ...\n",
      "Calculating partial dependence for debt_to_income_ratio_missing ...\n",
      "Calculating partial dependence for loan_amount_std ...\n",
      "Calculating partial dependence for loan_to_value_ratio_std ...\n",
      "Calculating partial dependence for no_intro_rate_period_std ...\n",
      "Calculating partial dependence for intro_rate_period_std ...\n",
      "Calculating partial dependence for property_value_std ...\n",
      "Calculating partial dependence for income_std ...\n",
      "Calculating partial dependence for debt_to_income_ratio_std ...\n",
      "Done.\n"
     ]
    }
   ],
   "source": [
    "#calculate partial dependence\n",
    "# init dict to hold results\n",
    "pd_dict = {}\n",
    "\n",
    "# cycle through names and model types to calculate par dep\n",
    "for name in x_names:\n",
    "\n",
    "    print('Calculating partial dependence for %s ...' % name)\n",
    "\n",
    "    # setup a dataframe to hold results\n",
    "    # use bins from first par_dep() run\n",
    "    pd_dict[name] = pd.DataFrame(columns=[name, 'ebm'])\n",
    "    first_pd = par_dep(name, valid[x_names], best_ebm, 'ebm')\n",
    "    pd_dict[name][name] = first_pd[name]\n",
    "    bins = first_pd[name]\n",
    "\n",
    "    # calculate par dep for ebm model\n",
    "    pd_dict[name]['ebm'] = par_dep(name,\n",
    "                                   valid[x_names],\n",
    "                                   best_ebm,\n",
    "                                   'ebm',\n",
    "                                   bins=bins)['partial_dependence']\n",
    "\n",
    "print('Done.')"
   ]
  },
  {
   "cell_type": "markdown",
   "id": "european-title",
   "metadata": {},
   "source": [
    "## Partial Dependence Plots"
   ]
  },
  {
   "cell_type": "code",
   "execution_count": 23,
   "id": "reserved-partnership",
   "metadata": {
    "ExecuteTime": {
     "end_time": "2021-06-13T04:36:56.648568Z",
     "start_time": "2021-06-13T04:36:55.279525Z"
    }
   },
   "outputs": [
    {
     "data": {
      "image/png": "[encoded data removed]",
      "text/plain": [
       "<Figure size 432x288 with 1 Axes>"
      ]
     },
     "metadata": {
      "needs_background": "light"
     },
     "output_type": "display_data"
    },
    {
     "data": {
      "image/png": "[encoded data removed]",
      "text/plain": [
       "<Figure size 432x288 with 1 Axes>"
      ]
     },
     "metadata": {
      "needs_background": "light"
     },
     "output_type": "display_data"
    },
    {
     "data": {
      "image/png": "[encoded data removed]",
      "text/plain": [
       "<Figure size 432x288 with 1 Axes>"
      ]
     },
     "metadata": {
      "needs_background": "light"
     },
     "output_type": "display_data"
    },
    {
     "data": {
      "image/png": "[encoded data removed]",
      "text/plain": [
       "<Figure size 432x288 with 1 Axes>"
      ]
     },
     "metadata": {
      "needs_background": "light"
     },
     "output_type": "display_data"
    },
    {
     "data": {
      "image/png": "[encoded data removed]",
      "text/plain": [
       "<Figure size 432x288 with 1 Axes>"
      ]
     },
     "metadata": {
      "needs_background": "light"
     },
     "output_type": "display_data"
    },
    {
     "data": {
      "image/png": "[encoded data removed]",
      "text/plain": [
       "<Figure size 432x288 with 1 Axes>"
      ]
     },
     "metadata": {
      "needs_background": "light"
     },
     "output_type": "display_data"
    },
    {
     "data": {
      "image/png": "[encoded data removed]",
      "text/plain": [
       "<Figure size 432x288 with 1 Axes>"
      ]
     },
     "metadata": {
      "needs_background": "light"
     },
     "output_type": "display_data"
    },
    {
     "data": {
      "image/png": "[encoded data removed]",
      "text/plain": [
       "<Figure size 432x288 with 1 Axes>"
      ]
     },
     "metadata": {
      "needs_background": "light"
     },
     "output_type": "display_data"
    },
    {
     "data": {
      "image/png": "[encoded data removed]",
      "text/plain": [
       "<Figure size 432x288 with 1 Axes>"
      ]
     },
     "metadata": {
      "needs_background": "light"
     },
     "output_type": "display_data"
    },
    {
     "data": {
      "image/png": "[encoded data removed]",
      "text/plain": [
       "<Figure size 432x288 with 1 Axes>"
      ]
     },
     "metadata": {
      "needs_background": "light"
     },
     "output_type": "display_data"
    }
   ],
   "source": [
    "# loop through names to calculate par dep\n",
    "for name in x_names:\n",
    "\n",
    "    # init plot\n",
    "    fig, (ax2) = plt.subplots(ncols=1, sharey=True)\n",
    "    plt.tight_layout()\n",
    "    plt.subplots_adjust(left=0, right=2.2, wspace=0.2)\n",
    "\n",
    "    # plot par dep from model across frames\n",
    "    pd_dict[name].plot(kind='line',\n",
    "                       x=name,\n",
    "                       y='ebm',\n",
    "                       ax=ax2,\n",
    "                       title='Best EBM Partial Dependence')\n",
    "    ax2.set_xlabel(name)"
   ]
  },
  {
   "cell_type": "markdown",
   "id": "chubby-strength",
   "metadata": {},
   "source": [
    "# Remediation: Model Discrimination Testing"
   ]
  },
  {
   "cell_type": "markdown",
   "id": "conservative-shower",
   "metadata": {},
   "source": [
    "## Utility Functions"
   ]
  },
  {
   "cell_type": "code",
   "execution_count": 24,
   "id": "finished-roulette",
   "metadata": {
    "ExecuteTime": {
     "end_time": "2021-06-13T04:36:57.944045Z",
     "start_time": "2021-06-13T04:36:57.929043Z"
    }
   },
   "outputs": [],
   "source": [
    "#calculate confusion matrices by demographic group\n",
    "def get_confusion_matrix(frame,\n",
    "                         y,\n",
    "                         yhat,\n",
    "                         by=None,\n",
    "                         level=None,\n",
    "                         cutoff=0.5,\n",
    "                         verbose=True):\n",
    "    \"\"\" Creates confusion matrix from pandas dataframe of y and yhat values, can be sliced \n",
    "        by a variable and level.\n",
    "    \n",
    "        :param frame: Pandas dataframe of actual (y) and predicted (yhat) values.\n",
    "        :param y: Name of actual value column.\n",
    "        :param yhat: Name of predicted value column.\n",
    "        :param by: By variable to slice frame before creating confusion matrix, default None.\n",
    "        :param level: Value of by variable to slice frame before creating confusion matrix, default None.\n",
    "        :param cutoff: Cutoff threshold for confusion matrix, default 0.5. \n",
    "        :param verbose: Whether to print confusion matrix titles, default True. \n",
    "        :return: Confusion matrix as pandas dataframe. \n",
    "        \n",
    "    \"\"\"\n",
    "\n",
    "    # determine levels of target (y) variable\n",
    "    # sort for consistency\n",
    "    level_list = list(frame[y].unique())\n",
    "    level_list.sort(reverse=True)\n",
    "\n",
    "    # init confusion matrix\n",
    "    cm_frame = pd.DataFrame(columns=['actual: ' + str(i) for i in level_list],\n",
    "                            index=['predicted: ' + str(i) for i in level_list])\n",
    "\n",
    "    # don't destroy original data\n",
    "    frame_ = frame.copy(deep=True)\n",
    "\n",
    "    # convert numeric predictions to binary decisions using cutoff\n",
    "    dname = 'd_' + str(y)\n",
    "    frame_[dname] = np.where(frame_[yhat] > cutoff, 1, 0)\n",
    "\n",
    "    # slice frame\n",
    "    if (by is not None) & (level is not None):\n",
    "        frame_ = frame_[frame[by] == level]\n",
    "\n",
    "    # calculate size of each confusion matrix value\n",
    "    for i, lev_i in enumerate(level_list):\n",
    "        for j, lev_j in enumerate(level_list):\n",
    "            cm_frame.iat[j, i] = frame_[(frame_[y] == lev_i)\n",
    "                                        & (frame_[dname] == lev_j)].shape[0]\n",
    "            # i, j vs. j, i nasty little bug ... updated 8/30/19\n",
    "\n",
    "    # output results\n",
    "    if verbose:\n",
    "        if by is None:\n",
    "            print('Confusion matrix:')\n",
    "        else:\n",
    "            print('Confusion matrix by ' + by + '=' + str(level))\n",
    "\n",
    "    return cm_frame"
   ]
  },
  {
   "cell_type": "code",
   "execution_count": 25,
   "id": "downtown-shoot",
   "metadata": {
    "ExecuteTime": {
     "end_time": "2021-06-13T04:36:59.441498Z",
     "start_time": "2021-06-13T04:36:59.426538Z"
    }
   },
   "outputs": [],
   "source": [
    "#calculate AIR\n",
    "def air(cm_dict, reference_key, protected_key, verbose=True):\n",
    "    \"\"\" Calculates the adverse impact ratio as a quotient between protected and \n",
    "        reference group acceptance rates: protected_prop/reference_prop. \n",
    "        Optionally prints intermediate values. ASSUMES 0 IS \"POSITIVE\" OUTCOME!\n",
    "\n",
    "        :param cm_dict: Dictionary of demographic group confusion matrices. \n",
    "        :param reference_key: Name of reference group in cm_dict as a string.\n",
    "        :param protected_key: Name of protected group in cm_dict as a string.\n",
    "        :param verbose: Whether to print intermediate acceptance rates, default True. \n",
    "        :return: AIR.\n",
    "        \n",
    "    \"\"\"\n",
    "\n",
    "    eps = 1e-20  # numeric stability and divide by 0 protection\n",
    "\n",
    "    # reference group summary\n",
    "    reference_accepted = float(\n",
    "        cm_dict[reference_key].iat[1, 0] +\n",
    "        cm_dict[reference_key].iat[1, 1])  # predicted 0's\n",
    "    reference_total = float(cm_dict[reference_key].sum().sum())\n",
    "    reference_prop = reference_accepted / reference_total\n",
    "    if verbose:\n",
    "        print(reference_key.title() +\n",
    "              ' proportion accepted: %.3f' % reference_prop)\n",
    "\n",
    "    # protected group summary\n",
    "    protected_accepted = float(\n",
    "        cm_dict[protected_key].iat[1, 0] +\n",
    "        cm_dict[protected_key].iat[1, 1])  # predicted 0's\n",
    "    protected_total = float(cm_dict[protected_key].sum().sum())\n",
    "    protected_prop = protected_accepted / protected_total\n",
    "    if verbose:\n",
    "        print(protected_key.title() +\n",
    "              ' proportion accepted: %.3f' % protected_prop)\n",
    "\n",
    "    # return adverse impact ratio\n",
    "    return ((protected_prop + eps) / (reference_prop + eps))"
   ]
  },
  {
   "cell_type": "code",
   "execution_count": 26,
   "id": "sticky-breach",
   "metadata": {
    "ExecuteTime": {
     "end_time": "2021-06-13T04:37:00.892862Z",
     "start_time": "2021-06-13T04:37:00.877861Z"
    }
   },
   "outputs": [],
   "source": [
    "#f1 score\n",
    "def get_max_f1_frame(frame,\n",
    "                     y,\n",
    "                     yhat,\n",
    "                     res=0.01,\n",
    "                     air_reference=None,\n",
    "                     air_protected=None):\n",
    "    \"\"\" Utility function for finding max. F1. \n",
    "        Coupled to get_confusion_matrix() and air(). \n",
    "        Assumes 1 is the marker for class membership.\n",
    "    \n",
    "        :param frame: Pandas dataframe of actual (y) and predicted (yhat) values.\n",
    "        :param y: Known y values.\n",
    "        :param yhat: Model scores.\n",
    "        :param res: Resolution over which to search for max. F1, default 0.01.\n",
    "        :param air_reference: Reference group for AIR calculation, optional.\n",
    "        :param air_protected: Protected group for AIR calculation, optional.\n",
    "        :return: Pandas DataFrame of cutoffs to select from.\n",
    "    \n",
    "    \"\"\"\n",
    "\n",
    "    do_air = all(v is not None for v in [air_reference, air_protected])\n",
    "\n",
    "    # init frame to store f1 at different cutoffs\n",
    "    if do_air:\n",
    "        columns = ['cut', 'f1', 'acc', 'air']\n",
    "    else:\n",
    "        columns = ['cut', 'f1', 'acc']\n",
    "    f1_frame = pd.DataFrame(columns=['cut', 'f1', 'acc'])\n",
    "\n",
    "    # copy known y and score values into a temporary frame\n",
    "    temp_df = frame[[y, yhat]].copy(deep=True)\n",
    "\n",
    "    # find f1 at different cutoffs and store in acc_frame\n",
    "    for cut in np.arange(0, 1 + res, res):\n",
    "        temp_df['decision'] = np.where(temp_df.iloc[:, 1] > cut, 1, 0)\n",
    "        f1 = f1_score(temp_df.iloc[:, 0], temp_df['decision'])\n",
    "        acc = accuracy_score(temp_df.iloc[:, 0], temp_df['decision'])\n",
    "        row_dict = {'cut': cut, 'f1': f1, 'acc': acc}\n",
    "        if do_air:\n",
    "            # conditionally calculate AIR\n",
    "            cm_ref = get_confusion_matrix(frame,\n",
    "                                          y,\n",
    "                                          yhat,\n",
    "                                          by=air_reference,\n",
    "                                          level=1,\n",
    "                                          cutoff=cut,\n",
    "                                          verbose=False)\n",
    "            cm_pro = get_confusion_matrix(frame,\n",
    "                                          y,\n",
    "                                          yhat,\n",
    "                                          by=air_protected,\n",
    "                                          level=1,\n",
    "                                          cutoff=cut,\n",
    "                                          verbose=False)\n",
    "            air_ = air({\n",
    "                air_reference: cm_ref,\n",
    "                air_protected: cm_pro\n",
    "            },\n",
    "                       air_reference,\n",
    "                       air_protected,\n",
    "                       verbose=False)\n",
    "            row_dict['air'] = air_\n",
    "\n",
    "        f1_frame = f1_frame.append(row_dict, ignore_index=True)\n",
    "\n",
    "    del temp_df\n",
    "\n",
    "    return f1_frame"
   ]
  },
  {
   "cell_type": "code",
   "execution_count": 27,
   "id": "collaborative-fossil",
   "metadata": {
    "ExecuteTime": {
     "end_time": "2021-06-13T04:37:02.327137Z",
     "start_time": "2021-06-13T04:37:02.310753Z"
    }
   },
   "outputs": [],
   "source": [
    "#ebm grid search for maximum fidelity and least discrimination\n",
    "def ebm_grid(train,\n",
    "             valid,\n",
    "             x_names,\n",
    "             y_name,\n",
    "             gs_params=None,\n",
    "             n_models=None,\n",
    "             early_stopping_rounds=None,\n",
    "             seed=None,\n",
    "             air_reference=None,\n",
    "             air_protected=None,\n",
    "             air_cut=None):\n",
    "    \"\"\" Performs a random grid search over n_models and gs_params.\n",
    "        Optionally considers random feature sets and AIR.\n",
    "        Coupled to get_confusion_matrix() and air(). \n",
    "\n",
    "    :param train: Training data as Pandas DataFrame.\n",
    "    :param valid: Validation data as Pandas DataFrame.\n",
    "    :param x_names: Names of input features.\n",
    "    :param y_name: Name of target feature.\n",
    "    :param gs_params: Dictionary of lists of potential EBM parameters over which to search.   \n",
    "    :param n_models: Number of random models to evaluate.\n",
    "    :param early_stopping_rounds: EBM early stopping rounds.\n",
    "    :param seed: Random seed for better interpretability.\n",
    "    :param air_reference: Reference group for AIR calculation, optional.\n",
    "    :param air_protected: Protected group for AIR calculation, optional.  \n",
    "    :param air_cut: Cutoff for AIR calculation, optional.\n",
    "    :return: Tuple: (Best EBM model, Pandas DataFrame of models to select from)\n",
    "\n",
    "    \"\"\"\n",
    "\n",
    "    # init returned frame\n",
    "    do_air = all(v is not None for v in [air_reference, air_protected])\n",
    "    if do_air:\n",
    "        columns = list(gs_params.keys()) + ['features', 'auc', 'air']\n",
    "    else:\n",
    "        columns = list(gs_params.keys()) + ['auc']\n",
    "    ebm_grid_frame = pd.DataFrame(columns=columns)\n",
    "\n",
    "    # cartesian product of gs_params\n",
    "    keys, values = zip(*gs_params.items())\n",
    "    experiments = [dict(zip(keys, v)) for v in itertools.product(*values)]\n",
    "\n",
    "    # preserve exact reproducibility for this function\n",
    "    np.random.seed(SEED)\n",
    "\n",
    "    # select randomly from cartesian product space\n",
    "    selected_experiments = np.random.choice(len(experiments), n_models)\n",
    "\n",
    "    # set global params for seed, etc.\n",
    "    params = {\n",
    "        'n_jobs': NTHREAD,\n",
    "        'early_stopping_rounds': early_stopping_rounds,\n",
    "        'random_state': SEED\n",
    "    }\n",
    "\n",
    "    # init grid search loop\n",
    "    best_candidate = None\n",
    "    best_score = 0\n",
    "\n",
    "    # grid search loop\n",
    "    for i, exp in enumerate(selected_experiments):\n",
    "\n",
    "        params.update(experiments[exp]\n",
    "                      )  # override global params with current grid run params\n",
    "\n",
    "        print('Grid search run %d/%d:' % (int(i + 1), int(n_models)))\n",
    "        print('Training with parameters:', params)\n",
    "\n",
    "        # train\n",
    "        ebm = ExplainableBoostingClassifier(**params)\n",
    "\n",
    "        # conditionally select random features\n",
    "        features = x_names\n",
    "        if do_air:\n",
    "            n_features = random.randrange(len(x_names)) + 1\n",
    "            features = random.sample(x_names, n_features)\n",
    "        candidate = ebm.fit(train[features], train[y_name])\n",
    "\n",
    "        # calculate AUC\n",
    "        ebm_perf = ROC(ebm.predict_proba).explain_perf(valid[features],\n",
    "                                                       valid[y_name])\n",
    "        candidate_best_score = ebm_perf._internal_obj['overall']['auc']\n",
    "\n",
    "        # compose values to add to ebm_grid_frame\n",
    "        row_dict = params.copy()\n",
    "        row_dict['auc'] = candidate_best_score\n",
    "        if do_air:\n",
    "            # collect random feature set\n",
    "            row_dict['features'] = features\n",
    "            # conditionally calculate AIR\n",
    "            valid_phat = valid.copy(deep=True)\n",
    "            valid_phat['phat'] = candidate.predict_proba(valid[features])[:, 1]\n",
    "            cm_ref = get_confusion_matrix(valid_phat,\n",
    "                                          y_name,\n",
    "                                          'phat',\n",
    "                                          by=air_reference,\n",
    "                                          level=1,\n",
    "                                          cutoff=air_cut,\n",
    "                                          verbose=False)\n",
    "            cm_pro = get_confusion_matrix(valid_phat,\n",
    "                                          y_name,\n",
    "                                          'phat',\n",
    "                                          by=air_protected,\n",
    "                                          level=1,\n",
    "                                          cutoff=air_cut,\n",
    "                                          verbose=False)\n",
    "            air_ = air({\n",
    "                air_reference: cm_ref,\n",
    "                air_protected: cm_pro\n",
    "            },\n",
    "                       air_reference,\n",
    "                       air_protected,\n",
    "                       verbose=False)\n",
    "            row_dict['air'] = air_\n",
    "            del valid_phat\n",
    "\n",
    "        # append run to ebm_grid_frame\n",
    "        ebm_grid_frame = ebm_grid_frame.append(row_dict, ignore_index=True)\n",
    "\n",
    "        # determine if current model is better than previous best\n",
    "        if candidate_best_score > best_score:\n",
    "            best_score = candidate_best_score\n",
    "            best_ebm = candidate\n",
    "            print(\n",
    "                'Grid search new best score discovered at iteration %d/%d: %.4f.'\n",
    "                % (int(i + 1), int(n_models), candidate_best_score))\n",
    "\n",
    "        print('---------- ----------')\n",
    "\n",
    "        del row_dict\n",
    "        del ebm\n",
    "\n",
    "    return best_ebm, ebm_grid_frame"
   ]
  },
  {
   "cell_type": "markdown",
   "id": "crazy-simple",
   "metadata": {},
   "source": [
    "## Discrimination Analysis"
   ]
  },
  {
   "cell_type": "code",
   "execution_count": 28,
   "id": "dedicated-fossil",
   "metadata": {
    "ExecuteTime": {
     "end_time": "2021-06-13T04:37:05.618667Z",
     "start_time": "2021-06-13T04:37:03.769131Z"
    },
    "run_control": {
     "marked": false
    }
   },
   "outputs": [
    {
     "name": "stdout",
     "output_type": "stream",
     "text": [
      "      cut        f1       acc\n",
      "0    0.00  0.173860  0.095206\n",
      "1    0.01  0.232456  0.379245\n",
      "2    0.02  0.262047  0.477717\n",
      "3    0.03  0.279386  0.527753\n",
      "4    0.04  0.294159  0.565956\n",
      "..    ...       ...       ...\n",
      "96   0.96  0.000000  0.904794\n",
      "97   0.97  0.000000  0.904794\n",
      "98   0.98  0.000000  0.904794\n",
      "99   0.99  0.000000  0.904794\n",
      "100  1.00  0.000000  0.904794\n",
      "\n",
      "[101 rows x 3 columns]\n",
      "\n",
      "Best EBM F1: 0.3661 achieved at cutoff: 0.170 with accuracy: 0.78168.\n"
     ]
    }
   ],
   "source": [
    "#Find optimal cutoff based on F1\n",
    "f1_frame = get_max_f1_frame(best_ebm_phat, y_name, 'phat')\n",
    "\n",
    "print(f1_frame)\n",
    "print()\n",
    "\n",
    "max_f1 = f1_frame['f1'].max()\n",
    "best_cut = f1_frame.loc[\n",
    "    int(f1_frame['f1'].idxmax()),\n",
    "    'cut']  #idxmax() returns the index of the maximum value\n",
    "acc = f1_frame.loc[int(f1_frame['f1'].idxmax()), 'acc']\n",
    "\n",
    "print('Best EBM F1: %.4f achieved at cutoff: %.3f with accuracy: %.5f.' %\n",
    "      (max_f1, best_cut, acc))"
   ]
  },
  {
   "cell_type": "code",
   "execution_count": 29,
   "id": "chief-organizer",
   "metadata": {
    "ExecuteTime": {
     "end_time": "2021-06-13T04:37:07.075803Z",
     "start_time": "2021-06-13T04:37:06.923232Z"
    }
   },
   "outputs": [
    {
     "name": "stdout",
     "output_type": "stream",
     "text": [
      "Confusion matrix by black=1\n",
      "             actual: 1 actual: 0\n",
      "predicted: 1       490       981\n",
      "predicted: 0       174      1547\n",
      "\n",
      "Confusion matrix by asian=1\n",
      "             actual: 1 actual: 0\n",
      "predicted: 1        97       208\n",
      "predicted: 0        51      2894\n",
      "\n",
      "Confusion matrix by white=1\n",
      "             actual: 1 actual: 0\n",
      "predicted: 1      2070      6605\n",
      "predicted: 0      1095     24755\n",
      "\n",
      "Confusion matrix by male=1\n",
      "             actual: 1 actual: 0\n",
      "predicted: 1      1106      3408\n",
      "predicted: 0       558     10760\n",
      "\n",
      "Confusion matrix by female=1\n",
      "             actual: 1 actual: 0\n",
      "predicted: 1       888      2361\n",
      "predicted: 0       352      6431\n",
      "\n"
     ]
    }
   ],
   "source": [
    "#Find confusion matrices for demographic groups\n",
    "demographic_group_names = ['black', 'asian', 'white', 'male', 'female']\n",
    "cm_dict = {}\n",
    "\n",
    "for name in demographic_group_names:\n",
    "    cm_dict[name] = get_confusion_matrix(best_ebm_phat,\n",
    "                                         y_name,\n",
    "                                         'phat',\n",
    "                                         by=name,\n",
    "                                         level=1,\n",
    "                                         cutoff=best_cut)\n",
    "    print(cm_dict[name])\n",
    "    print()"
   ]
  },
  {
   "cell_type": "code",
   "execution_count": 30,
   "id": "qualified-fossil",
   "metadata": {
    "ExecuteTime": {
     "end_time": "2021-06-13T04:37:08.571522Z",
     "start_time": "2021-06-13T04:37:08.557532Z"
    }
   },
   "outputs": [
    {
     "name": "stdout",
     "output_type": "stream",
     "text": [
      "White proportion accepted: 0.749\n",
      "Asian proportion accepted: 0.906\n",
      "Adverse impact ratio for Asian people vs. White people: 1.210\n"
     ]
    }
   ],
   "source": [
    "#AIR for Asian race\n",
    "print('Adverse impact ratio for Asian people vs. White people: %.3f' %\n",
    "      air(cm_dict, 'white', 'asian'))"
   ]
  },
  {
   "cell_type": "code",
   "execution_count": 31,
   "id": "involved-shoulder",
   "metadata": {
    "ExecuteTime": {
     "end_time": "2021-06-13T04:37:09.904483Z",
     "start_time": "2021-06-13T04:37:09.890560Z"
    }
   },
   "outputs": [
    {
     "name": "stdout",
     "output_type": "stream",
     "text": [
      "White proportion accepted: 0.749\n",
      "Black proportion accepted: 0.539\n",
      "Adverse impact ratio for Black people vs. White people: 0.720\n"
     ]
    }
   ],
   "source": [
    "#AIR for Black race\n",
    "print('Adverse impact ratio for Black people vs. White people: %.3f' %\n",
    "      air(cm_dict, 'white', 'black'))"
   ]
  },
  {
   "cell_type": "code",
   "execution_count": 32,
   "id": "tested-imagination",
   "metadata": {
    "ExecuteTime": {
     "end_time": "2021-06-13T04:37:11.302463Z",
     "start_time": "2021-06-13T04:37:11.287504Z"
    }
   },
   "outputs": [
    {
     "name": "stdout",
     "output_type": "stream",
     "text": [
      "Male proportion accepted: 0.715\n",
      "Female proportion accepted: 0.676\n",
      "Adverse impact ratio for Females vs. Males: 0.946\n"
     ]
    }
   ],
   "source": [
    "#AIR for Female Gender\n",
    "print('Adverse impact ratio for Females vs. Males: %.3f' %\n",
    "      air(cm_dict, 'male', 'female'))"
   ]
  },
  {
   "cell_type": "markdown",
   "id": "velvet-period",
   "metadata": {},
   "source": [
    "## Remediation Techniques & Disparate Impact Analysis"
   ]
  },
  {
   "cell_type": "markdown",
   "id": "intended-bearing",
   "metadata": {},
   "source": [
    "### Evaluate new AUC cutoff maximizing AIR"
   ]
  },
  {
   "cell_type": "code",
   "execution_count": 33,
   "id": "early-practitioner",
   "metadata": {
    "ExecuteTime": {
     "end_time": "2021-06-13T04:37:17.675224Z",
     "start_time": "2021-06-13T04:37:12.570937Z"
    }
   },
   "outputs": [
    {
     "data": {
      "text/html": [
       "<div>\n",
       "<style scoped>\n",
       "    .dataframe tbody tr th:only-of-type {\n",
       "        vertical-align: middle;\n",
       "    }\n",
       "\n",
       "    .dataframe tbody tr th {\n",
       "        vertical-align: top;\n",
       "    }\n",
       "\n",
       "    .dataframe thead th {\n",
       "        text-align: right;\n",
       "    }\n",
       "</style>\n",
       "<table border=\"1\" class=\"dataframe\">\n",
       "  <thead>\n",
       "    <tr style=\"text-align: right;\">\n",
       "      <th></th>\n",
       "      <th>cut</th>\n",
       "      <th>f1</th>\n",
       "      <th>acc</th>\n",
       "      <th>air</th>\n",
       "    </tr>\n",
       "  </thead>\n",
       "  <tbody>\n",
       "    <tr>\n",
       "      <th>21</th>\n",
       "      <td>0.21</td>\n",
       "      <td>0.360741</td>\n",
       "      <td>0.826349</td>\n",
       "      <td>0.801475</td>\n",
       "    </tr>\n",
       "    <tr>\n",
       "      <th>22</th>\n",
       "      <td>0.22</td>\n",
       "      <td>0.350874</td>\n",
       "      <td>0.834793</td>\n",
       "      <td>0.826468</td>\n",
       "    </tr>\n",
       "    <tr>\n",
       "      <th>23</th>\n",
       "      <td>0.23</td>\n",
       "      <td>0.344449</td>\n",
       "      <td>0.843423</td>\n",
       "      <td>0.850169</td>\n",
       "    </tr>\n",
       "    <tr>\n",
       "      <th>24</th>\n",
       "      <td>0.24</td>\n",
       "      <td>0.337286</td>\n",
       "      <td>0.852407</td>\n",
       "      <td>0.870398</td>\n",
       "    </tr>\n",
       "    <tr>\n",
       "      <th>25</th>\n",
       "      <td>0.25</td>\n",
       "      <td>0.325863</td>\n",
       "      <td>0.861121</td>\n",
       "      <td>0.881443</td>\n",
       "    </tr>\n",
       "  </tbody>\n",
       "</table>\n",
       "</div>"
      ],
      "text/plain": [
       "     cut        f1       acc       air\n",
       "21  0.21  0.360741  0.826349  0.801475\n",
       "22  0.22  0.350874  0.834793  0.826468\n",
       "23  0.23  0.344449  0.843423  0.850169\n",
       "24  0.24  0.337286  0.852407  0.870398\n",
       "25  0.25  0.325863  0.861121  0.881443"
      ]
     },
     "execution_count": 33,
     "metadata": {},
     "output_type": "execute_result"
    }
   ],
   "source": [
    "#Find cutoff with better Black vs. White AIR\n",
    "f1_frame = get_max_f1_frame(best_ebm_phat,\n",
    "                            y_name,\n",
    "                            'phat',\n",
    "                            air_reference='white',\n",
    "                            air_protected='black')\n",
    "# print highest quality cutoffs above four fifths rule cutoff\n",
    "f1_frame[f1_frame['air'] > 0.8].sort_values(by='f1', ascending=False).head()"
   ]
  },
  {
   "cell_type": "code",
   "execution_count": 40,
   "id": "local-humanity",
   "metadata": {
    "ExecuteTime": {
     "end_time": "2021-06-13T13:09:23.722109Z",
     "start_time": "2021-06-13T13:09:23.610724Z"
    },
    "hide_input": false
   },
   "outputs": [
    {
     "name": "stdout",
     "output_type": "stream",
     "text": [
      "Adverse impact ratio for Asian people vs. White people: 1.137\n",
      "Adverse impact ratio for Black people vs. White people: 0.801\n",
      "Adverse impact ratio for Females vs. Males: 0.967\n"
     ]
    }
   ],
   "source": [
    "# calculate new confusion matrics for each group\n",
    "rem_cm_dict = {}\n",
    "for name in demographic_group_names:\n",
    "    rem_cm_dict[name] = get_confusion_matrix(best_ebm_phat,\n",
    "                                             y_name,\n",
    "                                             'phat',\n",
    "                                             by=name,\n",
    "                                             level=1,\n",
    "                                             cutoff=0.21,\n",
    "                                             verbose=False)\n",
    "\n",
    "# calculate AIR for each group\n",
    "print('Adverse impact ratio for Asian people vs. White people: %.3f' %\n",
    "      air(rem_cm_dict, 'white', 'asian', verbose=False))\n",
    "print('Adverse impact ratio for Black people vs. White people: %.3f' %\n",
    "      air(rem_cm_dict, 'white', 'black', verbose=False))\n",
    "print('Adverse impact ratio for Females vs. Males: %.3f' %\n",
    "      air(rem_cm_dict, 'male', 'female', verbose=False))"
   ]
  },
  {
   "cell_type": "markdown",
   "id": "broad-twins",
   "metadata": {},
   "source": [
    "### Perform new EBM grid search with adjusted parameters (100 Iterations)"
   ]
  },
  {
   "cell_type": "code",
   "execution_count": 35,
   "id": "transparent-inspector",
   "metadata": {
    "ExecuteTime": {
     "end_time": "2021-06-13T07:45:52.300321Z",
     "start_time": "2021-06-13T04:37:20.356637Z"
    }
   },
   "outputs": [
    {
     "name": "stdout",
     "output_type": "stream",
     "text": [
      "Grid search run 1/100:\n",
      "Training with parameters: {'n_jobs': 4, 'early_stopping_rounds': 100, 'random_state': 12345, 'max_bins': 256, 'max_interaction_bins': 64, 'interactions': 15, 'outer_bags': 6, 'inner_bags': 4, 'learning_rate': 0.01, 'validation_size': 0.2, 'min_samples_leaf': 10, 'max_leaves': 5}\n",
      "Grid search new best score discovered at iteration 1/100: 0.7323.\n",
      "---------- ----------\n",
      "Grid search run 2/100:\n",
      "Training with parameters: {'n_jobs': 4, 'early_stopping_rounds': 100, 'random_state': 12345, 'max_bins': 256, 'max_interaction_bins': 16, 'interactions': 10, 'outer_bags': 6, 'inner_bags': 0, 'learning_rate': 0.01, 'validation_size': 0.4, 'min_samples_leaf': 1, 'max_leaves': 5}\n",
      "Grid search new best score discovered at iteration 2/100: 0.7832.\n",
      "---------- ----------\n",
      "Grid search run 3/100:\n",
      "Training with parameters: {'n_jobs': 4, 'early_stopping_rounds': 100, 'random_state': 12345, 'max_bins': 128, 'max_interaction_bins': 16, 'interactions': 15, 'outer_bags': 14, 'inner_bags': 0, 'learning_rate': 0.005, 'validation_size': 0.4, 'min_samples_leaf': 2, 'max_leaves': 7}\n",
      "Grid search new best score discovered at iteration 3/100: 0.8233.\n",
      "---------- ----------\n",
      "Grid search run 4/100:\n",
      "Training with parameters: {'n_jobs': 4, 'early_stopping_rounds': 100, 'random_state': 12345, 'max_bins': 256, 'max_interaction_bins': 64, 'interactions': 10, 'outer_bags': 10, 'inner_bags': 0, 'learning_rate': 0.005, 'validation_size': 0.2, 'min_samples_leaf': 2, 'max_leaves': 5}\n",
      "---------- ----------\n",
      "Grid search run 5/100:\n",
      "Training with parameters: {'n_jobs': 4, 'early_stopping_rounds': 100, 'random_state': 12345, 'max_bins': 128, 'max_interaction_bins': 32, 'interactions': 10, 'outer_bags': 6, 'inner_bags': 4, 'learning_rate': 0.001, 'validation_size': 0.5, 'min_samples_leaf': 1, 'max_leaves': 7}\n",
      "---------- ----------\n",
      "Grid search run 6/100:\n",
      "Training with parameters: {'n_jobs': 4, 'early_stopping_rounds': 100, 'random_state': 12345, 'max_bins': 256, 'max_interaction_bins': 64, 'interactions': 15, 'outer_bags': 6, 'inner_bags': 0, 'learning_rate': 0.05, 'validation_size': 0.4, 'min_samples_leaf': 5, 'max_leaves': 3}\n",
      "---------- ----------\n",
      "Grid search run 7/100:\n",
      "Training with parameters: {'n_jobs': 4, 'early_stopping_rounds': 100, 'random_state': 12345, 'max_bins': 512, 'max_interaction_bins': 32, 'interactions': 10, 'outer_bags': 10, 'inner_bags': 8, 'learning_rate': 0.001, 'validation_size': 0.5, 'min_samples_leaf': 10, 'max_leaves': 3}\n",
      "---------- ----------\n",
      "Grid search run 8/100:\n",
      "Training with parameters: {'n_jobs': 4, 'early_stopping_rounds': 100, 'random_state': 12345, 'max_bins': 256, 'max_interaction_bins': 32, 'interactions': 15, 'outer_bags': 6, 'inner_bags': 0, 'learning_rate': 0.01, 'validation_size': 0.2, 'min_samples_leaf': 10, 'max_leaves': 5}\n",
      "---------- ----------\n",
      "Grid search run 9/100:\n",
      "Training with parameters: {'n_jobs': 4, 'early_stopping_rounds': 100, 'random_state': 12345, 'max_bins': 512, 'max_interaction_bins': 32, 'interactions': 10, 'outer_bags': 10, 'inner_bags': 0, 'learning_rate': 0.05, 'validation_size': 0.2, 'min_samples_leaf': 10, 'max_leaves': 5}\n",
      "---------- ----------\n",
      "Grid search run 10/100:\n",
      "Training with parameters: {'n_jobs': 4, 'early_stopping_rounds': 100, 'random_state': 12345, 'max_bins': 128, 'max_interaction_bins': 32, 'interactions': 20, 'outer_bags': 6, 'inner_bags': 8, 'learning_rate': 0.005, 'validation_size': 0.5, 'min_samples_leaf': 5, 'max_leaves': 3}\n",
      "---------- ----------\n",
      "Grid search run 11/100:\n",
      "Training with parameters: {'n_jobs': 4, 'early_stopping_rounds': 100, 'random_state': 12345, 'max_bins': 256, 'max_interaction_bins': 64, 'interactions': 20, 'outer_bags': 10, 'inner_bags': 4, 'learning_rate': 0.005, 'validation_size': 0.5, 'min_samples_leaf': 1, 'max_leaves': 5}\n",
      "---------- ----------\n",
      "Grid search run 12/100:\n",
      "Training with parameters: {'n_jobs': 4, 'early_stopping_rounds': 100, 'random_state': 12345, 'max_bins': 256, 'max_interaction_bins': 64, 'interactions': 10, 'outer_bags': 6, 'inner_bags': 0, 'learning_rate': 0.01, 'validation_size': 0.5, 'min_samples_leaf': 10, 'max_leaves': 7}\n",
      "Grid search new best score discovered at iteration 12/100: 0.8241.\n",
      "---------- ----------\n",
      "Grid search run 13/100:\n",
      "Training with parameters: {'n_jobs': 4, 'early_stopping_rounds': 100, 'random_state': 12345, 'max_bins': 256, 'max_interaction_bins': 64, 'interactions': 20, 'outer_bags': 14, 'inner_bags': 8, 'learning_rate': 0.01, 'validation_size': 0.5, 'min_samples_leaf': 5, 'max_leaves': 5}\n",
      "---------- ----------\n",
      "Grid search run 14/100:\n",
      "Training with parameters: {'n_jobs': 4, 'early_stopping_rounds': 100, 'random_state': 12345, 'max_bins': 256, 'max_interaction_bins': 64, 'interactions': 15, 'outer_bags': 14, 'inner_bags': 4, 'learning_rate': 0.05, 'validation_size': 0.5, 'min_samples_leaf': 1, 'max_leaves': 7}\n",
      "---------- ----------\n",
      "Grid search run 15/100:\n",
      "Training with parameters: {'n_jobs': 4, 'early_stopping_rounds': 100, 'random_state': 12345, 'max_bins': 256, 'max_interaction_bins': 32, 'interactions': 10, 'outer_bags': 6, 'inner_bags': 0, 'learning_rate': 0.005, 'validation_size': 0.4, 'min_samples_leaf': 2, 'max_leaves': 5}\n",
      "---------- ----------\n",
      "Grid search run 16/100:\n",
      "Training with parameters: {'n_jobs': 4, 'early_stopping_rounds': 100, 'random_state': 12345, 'max_bins': 256, 'max_interaction_bins': 16, 'interactions': 15, 'outer_bags': 6, 'inner_bags': 0, 'learning_rate': 0.001, 'validation_size': 0.2, 'min_samples_leaf': 2, 'max_leaves': 7}\n",
      "---------- ----------\n",
      "Grid search run 17/100:\n",
      "Training with parameters: {'n_jobs': 4, 'early_stopping_rounds': 100, 'random_state': 12345, 'max_bins': 128, 'max_interaction_bins': 32, 'interactions': 15, 'outer_bags': 10, 'inner_bags': 4, 'learning_rate': 0.01, 'validation_size': 0.2, 'min_samples_leaf': 10, 'max_leaves': 5}\n",
      "---------- ----------\n",
      "Grid search run 18/100:\n",
      "Training with parameters: {'n_jobs': 4, 'early_stopping_rounds': 100, 'random_state': 12345, 'max_bins': 512, 'max_interaction_bins': 32, 'interactions': 20, 'outer_bags': 14, 'inner_bags': 8, 'learning_rate': 0.005, 'validation_size': 0.4, 'min_samples_leaf': 10, 'max_leaves': 7}\n",
      "---------- ----------\n",
      "Grid search run 19/100:\n",
      "Training with parameters: {'n_jobs': 4, 'early_stopping_rounds': 100, 'random_state': 12345, 'max_bins': 256, 'max_interaction_bins': 32, 'interactions': 10, 'outer_bags': 14, 'inner_bags': 4, 'learning_rate': 0.001, 'validation_size': 0.4, 'min_samples_leaf': 5, 'max_leaves': 5}\n",
      "---------- ----------\n",
      "Grid search run 20/100:\n",
      "Training with parameters: {'n_jobs': 4, 'early_stopping_rounds': 100, 'random_state': 12345, 'max_bins': 128, 'max_interaction_bins': 16, 'interactions': 20, 'outer_bags': 14, 'inner_bags': 0, 'learning_rate': 0.001, 'validation_size': 0.4, 'min_samples_leaf': 5, 'max_leaves': 5}\n",
      "---------- ----------\n",
      "Grid search run 21/100:\n",
      "Training with parameters: {'n_jobs': 4, 'early_stopping_rounds': 100, 'random_state': 12345, 'max_bins': 128, 'max_interaction_bins': 64, 'interactions': 15, 'outer_bags': 6, 'inner_bags': 8, 'learning_rate': 0.05, 'validation_size': 0.5, 'min_samples_leaf': 10, 'max_leaves': 7}\n",
      "---------- ----------\n",
      "Grid search run 22/100:\n",
      "Training with parameters: {'n_jobs': 4, 'early_stopping_rounds': 100, 'random_state': 12345, 'max_bins': 512, 'max_interaction_bins': 32, 'interactions': 15, 'outer_bags': 10, 'inner_bags': 0, 'learning_rate': 0.01, 'validation_size': 0.2, 'min_samples_leaf': 10, 'max_leaves': 3}\n",
      "---------- ----------\n",
      "Grid search run 23/100:\n",
      "Training with parameters: {'n_jobs': 4, 'early_stopping_rounds': 100, 'random_state': 12345, 'max_bins': 256, 'max_interaction_bins': 32, 'interactions': 15, 'outer_bags': 6, 'inner_bags': 8, 'learning_rate': 0.01, 'validation_size': 0.5, 'min_samples_leaf': 5, 'max_leaves': 5}\n",
      "---------- ----------\n",
      "Grid search run 24/100:\n",
      "Training with parameters: {'n_jobs': 4, 'early_stopping_rounds': 100, 'random_state': 12345, 'max_bins': 512, 'max_interaction_bins': 16, 'interactions': 20, 'outer_bags': 10, 'inner_bags': 8, 'learning_rate': 0.005, 'validation_size': 0.4, 'min_samples_leaf': 5, 'max_leaves': 7}\n",
      "---------- ----------\n",
      "Grid search run 25/100:\n"
     ]
    },
    {
     "name": "stdout",
     "output_type": "stream",
     "text": [
      "Training with parameters: {'n_jobs': 4, 'early_stopping_rounds': 100, 'random_state': 12345, 'max_bins': 128, 'max_interaction_bins': 16, 'interactions': 20, 'outer_bags': 6, 'inner_bags': 0, 'learning_rate': 0.005, 'validation_size': 0.5, 'min_samples_leaf': 5, 'max_leaves': 7}\n",
      "---------- ----------\n",
      "Grid search run 26/100:\n",
      "Training with parameters: {'n_jobs': 4, 'early_stopping_rounds': 100, 'random_state': 12345, 'max_bins': 128, 'max_interaction_bins': 16, 'interactions': 20, 'outer_bags': 6, 'inner_bags': 4, 'learning_rate': 0.01, 'validation_size': 0.2, 'min_samples_leaf': 2, 'max_leaves': 5}\n",
      "---------- ----------\n",
      "Grid search run 27/100:\n",
      "Training with parameters: {'n_jobs': 4, 'early_stopping_rounds': 100, 'random_state': 12345, 'max_bins': 512, 'max_interaction_bins': 64, 'interactions': 20, 'outer_bags': 6, 'inner_bags': 4, 'learning_rate': 0.01, 'validation_size': 0.2, 'min_samples_leaf': 2, 'max_leaves': 5}\n",
      "---------- ----------\n",
      "Grid search run 28/100:\n",
      "Training with parameters: {'n_jobs': 4, 'early_stopping_rounds': 100, 'random_state': 12345, 'max_bins': 256, 'max_interaction_bins': 32, 'interactions': 20, 'outer_bags': 10, 'inner_bags': 4, 'learning_rate': 0.01, 'validation_size': 0.5, 'min_samples_leaf': 2, 'max_leaves': 7}\n",
      "---------- ----------\n",
      "Grid search run 29/100:\n",
      "Training with parameters: {'n_jobs': 4, 'early_stopping_rounds': 100, 'random_state': 12345, 'max_bins': 256, 'max_interaction_bins': 64, 'interactions': 20, 'outer_bags': 10, 'inner_bags': 0, 'learning_rate': 0.01, 'validation_size': 0.5, 'min_samples_leaf': 1, 'max_leaves': 7}\n",
      "---------- ----------\n",
      "Grid search run 30/100:\n",
      "Training with parameters: {'n_jobs': 4, 'early_stopping_rounds': 100, 'random_state': 12345, 'max_bins': 128, 'max_interaction_bins': 16, 'interactions': 15, 'outer_bags': 14, 'inner_bags': 4, 'learning_rate': 0.05, 'validation_size': 0.2, 'min_samples_leaf'"
     ]
    },
    {
     "data": {
      "text/html": [
       "<b>limit_output extension: Maximum message size of 10000 exceeded with 10021 characters</b>"
      ]
     },
     "metadata": {},
     "output_type": "display_data"
    }
   ],
   "source": [
    "# new grid search that also considers AIR and fairness\n",
    "best_ebm2, ebm_grid_frame = ebm_grid(train,\n",
    "                                     best_ebm_phat,\n",
    "                                     x_names,\n",
    "                                     y_name,\n",
    "                                     gs_params=gs_params,\n",
    "                                     n_models=100,\n",
    "                                     early_stopping_rounds=100,\n",
    "                                     seed=SEED,\n",
    "                                     air_reference='white',\n",
    "                                     air_protected='black',\n",
    "                                     air_cut=0.17)"
   ]
  },
  {
   "cell_type": "code",
   "execution_count": 36,
   "id": "potential-arbitration",
   "metadata": {
    "ExecuteTime": {
     "end_time": "2021-06-13T07:45:55.458627Z",
     "start_time": "2021-06-13T07:45:53.787668Z"
    }
   },
   "outputs": [
    {
     "data": {
      "image/png": "[encoded data removed]",
      "text/plain": [
       "<Figure size 576x576 with 1 Axes>"
      ]
     },
     "metadata": {
      "needs_background": "light"
     },
     "output_type": "display_data"
    }
   ],
   "source": [
    "#display grid search results (table)\n",
    "ebm_grid_frame\n",
    "\n",
    "#display grid search results (plot)\n",
    "fig, ax = plt.subplots(figsize=(8, 8))\n",
    "_ = ebm_grid_frame.plot(kind='scatter',\n",
    "                        x='air',\n",
    "                        y='auc',\n",
    "                        title='AIR vs. AUC for EBMs',\n",
    "                        ax=ax)\n",
    "_ = ax.axvline(x=0.8, color='r', linestyle='--')\n",
    "_ = ax.set_ylim([0.4, 0.85])\n",
    "_ = ax.set_xlim([0.75, 1.05])\n",
    "_ = ax.set_xlabel('AIR')\n",
    "_ = ax.set_ylabel('AUC')"
   ]
  },
  {
   "cell_type": "markdown",
   "id": "controlled-indicator",
   "metadata": {},
   "source": [
    "## Retrain Model & Evaluate Results"
   ]
  },
  {
   "cell_type": "code",
   "execution_count": 37,
   "id": "handed-startup",
   "metadata": {
    "ExecuteTime": {
     "end_time": "2021-06-13T07:46:50.219835Z",
     "start_time": "2021-06-13T07:45:56.901718Z"
    },
    "run_control": {
     "marked": false
    }
   },
   "outputs": [
    {
     "name": "stdout",
     "output_type": "stream",
     "text": [
      "Best AUC: 0.7694 above 0.8 AIR (0.8010).\n",
      "Remediated EBM retrained with AUC: 0.7694.\n"
     ]
    }
   ],
   "source": [
    "#Retrain most accurate model above 0.8 AIR\n",
    "# extract new params dict from ebm_grid_frame\n",
    "rem_params = ebm_grid_frame.loc[ebm_grid_frame['air'] > 0.8].sort_values(\n",
    "    by='auc', ascending=False).iloc[0, :].to_dict()\n",
    "\n",
    "# extract features from dict then delete from dict\n",
    "rem_x_names = rem_params['features']\n",
    "del rem_params['features']\n",
    "\n",
    "# record and delete other extraneous information\n",
    "print('Best AUC: %.4f above 0.8 AIR (%.4f).' %\n",
    "      (rem_params['auc'], rem_params['air']))\n",
    "del rem_params['auc']\n",
    "del rem_params['air']\n",
    "\n",
    "# reset some parameters to integers\n",
    "rem_params['random_state'] = int(rem_params['random_state'])\n",
    "rem_params['n_jobs'] = int(rem_params['n_jobs'])\n",
    "\n",
    "# retrain\n",
    "rem_ebm = ExplainableBoostingClassifier(**rem_params)\n",
    "rem_ebm.fit(train[rem_x_names], train[y_name])\n",
    "rem_ebm_perf = ROC(rem_ebm.predict_proba).explain_perf(valid[rem_x_names],\n",
    "                                                       valid[y_name])\n",
    "rem_auc = rem_ebm_perf._internal_obj['overall']['auc']\n",
    "print('Remediated EBM retrained with AUC: %.4f.' % rem_auc)"
   ]
  },
  {
   "cell_type": "code",
   "execution_count": 38,
   "id": "closing-brunei",
   "metadata": {
    "ExecuteTime": {
     "end_time": "2021-06-13T07:46:51.971637Z",
     "start_time": "2021-06-13T07:46:51.694226Z"
    }
   },
   "outputs": [
    {
     "name": "stdout",
     "output_type": "stream",
     "text": [
      "Adverse impact ratio for Asian people vs. White people: 1.175\n",
      "Adverse impact ratio for Black people vs. White people: 0.801\n",
      "Adverse impact ratio for Females vs. Males: 0.954\n"
     ]
    }
   ],
   "source": [
    "#Check that other groups are not adversely impacted by change\n",
    "# create a frame with remediated EBM predictions\n",
    "best_ebm_phat2 = pd.DataFrame(rem_ebm.predict_proba(valid[rem_x_names])[:, 1],\n",
    "                              columns=['phat'])\n",
    "best_ebm_phat2 = pd.concat([valid.reset_index(drop=True), best_ebm_phat2],\n",
    "                           axis=1)\n",
    "\n",
    "# calculate new confusion matrices for each group\n",
    "rem_cm_dict2 = {}\n",
    "for name in demographic_group_names:\n",
    "    rem_cm_dict2[name] = get_confusion_matrix(best_ebm_phat2,\n",
    "                                              y_name,\n",
    "                                              'phat',\n",
    "                                              by=name,\n",
    "                                              level=1,\n",
    "                                              cutoff=0.17,\n",
    "                                              verbose=False)\n",
    "\n",
    "# calculate AIR for each group\n",
    "print('Adverse impact ratio for Asian people vs. White people: %.3f' %\n",
    "      air(rem_cm_dict2, 'white', 'asian', verbose=False))\n",
    "print('Adverse impact ratio for Black people vs. White people: %.3f' %\n",
    "      air(rem_cm_dict2, 'white', 'black', verbose=False))\n",
    "print('Adverse impact ratio for Females vs. Males: %.3f' %\n",
    "      air(rem_cm_dict2, 'male', 'female', verbose=False))"
   ]
  },
  {
   "cell_type": "code",
   "execution_count": 39,
   "id": "broken-hormone",
   "metadata": {
    "ExecuteTime": {
     "end_time": "2021-06-13T07:46:58.981722Z",
     "start_time": "2021-06-13T07:46:53.821258Z"
    }
   },
   "outputs": [
    {
     "name": "stdout",
     "output_type": "stream",
     "text": [
      "H2O session _sid_87b9 closed.\n"
     ]
    }
   ],
   "source": [
    "#end h2o\n",
    "h2o.cluster().shutdown(prompt=False)"
   ]
  }
 ],
 "metadata": {
  "hide_input": false,
  "kernelspec": {
   "display_name": "Python 3",
   "language": "python",
   "name": "python3"
  },
  "language_info": {
   "codemirror_mode": {
    "name": "ipython",
    "version": 3
   },
   "file_extension": ".py",
   "mimetype": "text/x-python",
   "name": "python",
   "nbconvert_exporter": "python",
   "pygments_lexer": "ipython3",
   "version": "3.7.10"
  },
  "latex_envs": {
   "LaTeX_envs_menu_present": true,
   "autoclose": false,
   "autocomplete": true,
   "bibliofile": "biblio.bib",
   "cite_by": "apalike",
   "current_citInitial": 1,
   "eqLabelWithNumbers": true,
   "eqNumInitial": 1,
   "hotkeys": {
    "equation": "Ctrl-E",
    "itemize": "Ctrl-I"
   },
   "labels_anchors": false,
   "latex_user_defs": false,
   "report_style_numbering": false,
   "user_envs_cfg": false
  },
  "nbTranslate": {
   "displayLangs": [
    "*"
   ],
   "hotkey": "alt-t",
   "langInMainMenu": true,
   "sourceLang": "en",
   "targetLang": "fr",
   "useGoogleTranslate": true
  },
  "toc": {
   "base_numbering": 1,
   "nav_menu": {},
   "number_sections": true,
   "sideBar": true,
   "skip_h1_title": false,
   "title_cell": "Table of Contents",
   "title_sidebar": "Contents",
   "toc_cell": false,
   "toc_position": {},
   "toc_section_display": true,
   "toc_window_display": false
  },
  "varInspector": {
   "cols": {
    "lenName": 16,
    "lenType": 16,
    "lenVar": 40
   },
   "kernels_config": {
    "python": {
     "delete_cmd_postfix": "",
     "delete_cmd_prefix": "del ",
     "library": "var_list.py",
     "varRefreshCmd": "print(var_dic_list())"
    },
    "r": {
     "delete_cmd_postfix": ") ",
     "delete_cmd_prefix": "rm(",
     "library": "var_list.r",
     "varRefreshCmd": "cat(var_dic_list()) "
    }
   },
   "oldHeight": 794.75374,
   "position": {
    "height": "816.859px",
    "left": "1600.15px",
    "right": "20px",
    "top": "120px",
    "width": "382.648px"
   },
   "types_to_exclude": [
    "module",
    "function",
    "builtin_function_or_method",
    "instance",
    "_Feature"
   ],
   "varInspector_section_display": "block",
   "window_display": false
  }
 },
 "nbformat": 4,
 "nbformat_minor": 5
}
